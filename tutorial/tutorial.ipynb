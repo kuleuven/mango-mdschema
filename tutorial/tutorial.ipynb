{
 "cells": [
  {
   "cell_type": "raw",
   "metadata": {},
   "source": [
    "---\n",
    "title: \"Metadata schemas in Python\"\n",
    "format: gfm\n",
    "---"
   ]
  },
  {
   "attachments": {},
   "cell_type": "markdown",
   "metadata": {},
   "source": [
    "# Basic workflow\n",
    "In the most basic use of the package, you create a `Schema` instance with the path to your JSON schema (which should follow a specific format), you have a dictionary with name-value pairs for metadata, and you apply them to one or more iRODS objects (data objects or collections).\n",
    "\n",
    "In this tutorial we won't show how to apply them (see README) but how to check that the metadata is compatible with the schema, what requirements are checked and what the consequences of mismatches are."
   ]
  },
  {
   "cell_type": "code",
   "execution_count": 1,
   "metadata": {},
   "outputs": [],
   "source": [
    "#| echo: false\n",
    "import sys\n",
    "sys.path.append('../')"
   ]
  },
  {
   "cell_type": "code",
   "execution_count": 2,
   "metadata": {},
   "outputs": [],
   "source": [
    "from mango_mdschema import Schema, check_metadata"
   ]
  },
  {
   "cell_type": "code",
   "execution_count": 3,
   "metadata": {},
   "outputs": [],
   "source": [
    "my_schema = Schema('book-v2.0.0-published.json')"
   ]
  },
  {
   "cell_type": "code",
   "execution_count": 4,
   "metadata": {},
   "outputs": [],
   "source": [
    "my_metadata = {\n",
    "    'title' : \"A book not written yet\",\n",
    "    'author' : {\n",
    "        'name' : \"Fulano De Tal\",\n",
    "        'email' : \"fulano.detal@domain.info\"\n",
    "    },\n",
    "    'ebook' : 'Available',\n",
    "    'publishing_date' : '2015-02-01'\n",
    "}"
   ]
  },
  {
   "cell_type": "code",
   "execution_count": 5,
   "metadata": {},
   "outputs": [
    {
     "data": {
      "text/plain": [
       "[<iRODSMeta None mgs.book.title A book not written yet None>,\n",
       " <iRODSMeta None mgs.book.author.name Fulano De Tal 0>,\n",
       " <iRODSMeta None mgs.book.author.email fulano.detal@domain.info 0>,\n",
       " <iRODSMeta None mgs.book.ebook Available None>,\n",
       " <iRODSMeta None mgs.book.publishing_date 2015-02-01 None>,\n",
       " <iRODSMeta None mgs.book.publisher Tor None>]"
      ]
     },
     "execution_count": 5,
     "metadata": {},
     "output_type": "execute_result"
    }
   ],
   "source": [
    "check_metadata(my_schema, my_metadata)"
   ]
  },
  {
   "attachments": {},
   "cell_type": "markdown",
   "metadata": {},
   "source": [
    "## Metadata format\n",
    "The `metadata` argument of `check_metadata()` and `Schema.apply()` (which calls `check_metadata()`) must be a dictionary in which the keys represent the names/IDs of the fields _without namespacing_ and the values, the value of the AVU to add.\n",
    "\n",
    "If the field is a checkbox for which multiple values have been selected _or_ a repeatable field with multiple values, then the value in the dictionary should be a list of such values.\n",
    "\n",
    "For composite fields, the value should be a dictionary with the same format: keys are field names without namespacing and values, the right value.\n",
    "\n",
    "## Metadata validation\n",
    "\n",
    "The `validators` package is used to validate some formats; others are custom.\n",
    "Naturally, multiple-choice values are contrasted against the possible values.\n",
    "\n",
    "### Numbers\n",
    "Integer and float simple fields must be of type `int` or `float` respectively or something that can be converted to such format.\n",
    "`validators.between()` is used to make sure that the number is within the provided range.\n",
    "\n",
    "### Dates, times and datetimes\n",
    "Dates, times and datetimes can be provided as `datetime.date`, `datetime.time` or `datetime.datetime` objects or as strings that can be converted as such via their `fromisoformat()` or `fromtimestamp()` methods. The final value is a string in ISO Format.\n",
    "\n",
    "### URLs and emails\n",
    "URLs and emails are validated with the `validators` package."
   ]
  },
  {
   "attachments": {},
   "cell_type": "markdown",
   "metadata": {},
   "source": [
    "# Other things to document\n",
    "- With the `apply()` method, existing metadata related to the schema will be removed, and if the version if different it will be recorded in a warning (if `verbose`).\n",
    "- The version number of the schema will be added as `{prefix}.{schema_name}.__version__`.\n",
    "- Attributes of the `Schema` class, e.g. `name`, `fields`, `required_fields`, `version`.\n",
    "- Checking the requirements of a field."
   ]
  },
  {
   "cell_type": "code",
   "execution_count": 9,
   "metadata": {},
   "outputs": [
    {
     "data": {
      "text/plain": [
       "'book'"
      ]
     },
     "execution_count": 9,
     "metadata": {},
     "output_type": "execute_result"
    }
   ],
   "source": [
    "my_schema.name"
   ]
  },
  {
   "cell_type": "code",
   "execution_count": 10,
   "metadata": {},
   "outputs": [
    {
     "data": {
      "text/plain": [
       "'mgs.book'"
      ]
     },
     "execution_count": 10,
     "metadata": {},
     "output_type": "execute_result"
    }
   ],
   "source": [
    "my_schema.prefix"
   ]
  },
  {
   "cell_type": "code",
   "execution_count": 11,
   "metadata": {},
   "outputs": [
    {
     "data": {
      "text/plain": [
       "'2.0.0'"
      ]
     },
     "execution_count": 11,
     "metadata": {},
     "output_type": "execute_result"
    }
   ],
   "source": [
    "my_schema.version"
   ]
  },
  {
   "cell_type": "code",
   "execution_count": 12,
   "metadata": {},
   "outputs": [
    {
     "data": {
      "text/plain": [
       "{'title': None, 'publishing_date': None, 'publisher': 'Tor'}"
      ]
     },
     "execution_count": 12,
     "metadata": {},
     "output_type": "execute_result"
    }
   ],
   "source": [
    "my_schema.required_fields"
   ]
  },
  {
   "cell_type": "code",
   "execution_count": 13,
   "metadata": {},
   "outputs": [
    {
     "data": {
      "text/plain": [
       "{'name': None, 'email': None}"
      ]
     },
     "execution_count": 13,
     "metadata": {},
     "output_type": "execute_result"
    }
   ],
   "source": [
    "my_schema.fields['author'].required_fields"
   ]
  },
  {
   "cell_type": "code",
   "execution_count": 7,
   "metadata": {},
   "outputs": [
    {
     "name": "stdout",
     "output_type": "stream",
     "text": [
      "Type: text.\n",
      "                Required: True. Default: None.\n",
      "                Repeatable: False.\n",
      "                \n",
      "\n"
     ]
    }
   ],
   "source": [
    "my_schema.check_requirements('title')"
   ]
  },
  {
   "cell_type": "code",
   "execution_count": 8,
   "metadata": {},
   "outputs": [
    {
     "name": "stdout",
     "output_type": "stream",
     "text": [
      "Type: object.\n",
      "                Required: False.\n",
      "                Repeatable: False.\n",
      "                \n",
      "Composed of the following fields:\n",
      "- Type: text.\n",
      "                Required: True. Default: None.\n",
      "                Repeatable: False.\n",
      "                \n",
      "\n",
      "- Type: integer.\n",
      "                Required: False.\n",
      "                Repeatable: False.\n",
      "                \n",
      "integer between 12 and 99.\n",
      "- Type: email.\n",
      "                Required: True. Default: None.\n",
      "                Repeatable: True.\n",
      "                \n",
      "\n"
     ]
    }
   ],
   "source": [
    "my_schema.check_requirements('author')"
   ]
  }
 ],
 "metadata": {
  "kernelspec": {
   "display_name": ".venv",
   "language": "python",
   "name": "python3"
  },
  "language_info": {
   "codemirror_mode": {
    "name": "ipython",
    "version": 3
   },
   "file_extension": ".py",
   "mimetype": "text/x-python",
   "name": "python",
   "nbconvert_exporter": "python",
   "pygments_lexer": "ipython3",
   "version": "3.10.8"
  },
  "orig_nbformat": 4
 },
 "nbformat": 4,
 "nbformat_minor": 2
}
