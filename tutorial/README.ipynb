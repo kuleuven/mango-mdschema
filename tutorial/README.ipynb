{
 "cells": [
  {
   "cell_type": "markdown",
   "metadata": {},
   "source": [
    "# Metadata schemas in Python\n",
    "\n",
    "This tutorial shows you\n",
    "- The basic workflow with this package\n",
    "- The contents and possibilities of the `Schema` class\n",
    "- What the dictionary with metadata should look like\n",
    "- What throws errors or warnings in validation"
   ]
  },
  {
   "cell_type": "markdown",
   "metadata": {},
   "source": [
    "\n",
    "## Installation\n",
    "\n",
    "You can install the package and its dependencies with `pip`:"
   ]
  },
  {
   "cell_type": "code",
   "execution_count": null,
   "metadata": {
    "vscode": {
     "languageId": "shellscript"
    }
   },
   "outputs": [],
   "source": [
    "pip install mango-mdschema"
   ]
  },
  {
   "cell_type": "markdown",
   "metadata": {},
   "source": [
    "> The package will be published to [Pypi](https://pypi.org/) in the future."
   ]
  },
  {
   "cell_type": "markdown",
   "metadata": {},
   "source": [
    "## Basic workflow\n",
    "\n",
    "In the most basic use case of the package:\n",
    "\n",
    "- You create a `Schema` instance with the path to your JSON schema (which should\n",
    "follow a specific format).\n",
    "- You have a dictionary with name-value pairs for metadata, and you apply them\n",
    "to one or more iRODS objects (data objects or collections).\n",
    "- You have an iRODS object (data object or collection) and you extract the metadata\n",
    "from it into a dictionary with all values converted into their Python representation.\n",
    "\n",
    "In this tutorial we won’t show how to apply or extract them (see the README at\n",
    "the top of the repository) but how to check that the metadata is compliant with\n",
    "the schema, what requirements are checked and what the consequences of mismatches\n",
    "are.\n",
    "\n",
    "First we import what we need. The `Schema` class is the most important tool in\n",
    "this package: it reads a schema from file, validates it and lets you validate,\n",
    "apply or read metadata.\n",
    "\n",
    "When calling the `apply()` method on the `Schema` object, it will call its\n",
    "`validate()` method to do validation. You can use this method also on its own\n",
    "to validate your dictionary of metadata against a schema."
   ]
  },
  {
   "cell_type": "code",
   "execution_count": 1,
   "metadata": {},
   "outputs": [],
   "source": [
    "from pprint import pprint\n",
    "from mango_mdschema import Schema, ValidationError, ConversionError"
   ]
  },
  {
   "cell_type": "markdown",
   "metadata": {},
   "source": [
    "Create a schema by providing the path to the file. (In the future, `pathlib.Path`\n",
    "objects will also be accepted). See below for more information about this class."
   ]
  },
  {
   "cell_type": "code",
   "execution_count": 2,
   "metadata": {},
   "outputs": [],
   "source": [
    "my_schema = Schema('book-v2.0.0-published.json')"
   ]
  },
  {
   "cell_type": "markdown",
   "metadata": {},
   "source": [
    "Provide the metadata as a dictionary with not-namespaced attribute names\n",
    "and values (see below for specifications). If you have multiple values\n",
    "for the same attribute name (i.e. in a repeatable field or a\n",
    "multiple-value multiple-choice field), you should provide them as a list."
   ]
  },
  {
   "cell_type": "code",
   "execution_count": 3,
   "metadata": {},
   "outputs": [],
   "source": [
    "my_metadata = {\n",
    "    'title': \"A book not written yet\",\n",
    "    'author': {\n",
    "        'name': \"Fulano De Tal\",\n",
    "        'email': \"fulano.detal@kuleuven.be\"\n",
    "    },\n",
    "    'ebook': 'Available',\n",
    "    'publishing_date': '2015-02-01'\n",
    "}"
   ]
  },
  {
   "cell_type": "markdown",
   "metadata": {},
   "source": [
    "Validate the metadata against the schema:"
   ]
  },
  {
   "cell_type": "code",
   "execution_count": 4,
   "metadata": {},
   "outputs": [
    {
     "name": "stdout",
     "output_type": "stream",
     "text": [
      "My metadata is valid!\n",
      "{'author': [{'email': ['fulano.detal@kuleuven.be'], 'name': 'Fulano De Tal'}],\n",
      " 'ebook': 'Available',\n",
      " 'publisher': 'Tor',\n",
      " 'publishing_date': [datetime.date(2015, 2, 1)],\n",
      " 'title': 'A book not written yet'}\n"
     ]
    }
   ],
   "source": [
    "try:\n",
    "    validated = my_schema.validate(my_metadata)\n",
    "    print(\"My metadata is valid!\")\n",
    "    pprint(validated)\n",
    "except (ConversionError, ValidationError) as err:\n",
    "    print(f\"Oops my metadata was not valid: {err}\")"
   ]
  },
  {
   "cell_type": "markdown",
   "metadata": {},
   "source": [
    "On success, the converted metadata dictionary is returned. On failure, a\n",
    "`ConversionError` or `ValidationError` exception will be thrown.\n",
    "\n",
    "You can also call the `to_avus` method on `Schema`, which will first validate\n",
    "the provided metadata for you by calling `Schema.validate()`, and will then\n",
    "generate a list of `irods.meta.iRODSMeta` objects with namespaced attribute names."
   ]
  },
  {
   "cell_type": "code",
   "execution_count": 5,
   "metadata": {},
   "outputs": [
    {
     "data": {
      "text/plain": [
       "[<iRODSMeta None mgs.book.title A book not written yet None>,\n",
       " <iRODSMeta None mgs.book.author.name Fulano De Tal 1>,\n",
       " <iRODSMeta None mgs.book.author.email fulano.detal@kuleuven.be 1>,\n",
       " <iRODSMeta None mgs.book.ebook Available None>,\n",
       " <iRODSMeta None mgs.book.publishing_date 2015-02-01 None>,\n",
       " <iRODSMeta None mgs.book.publisher Tor None>]"
      ]
     },
     "execution_count": 5,
     "metadata": {},
     "output_type": "execute_result"
    }
   ],
   "source": [
    "my_schema.to_avus(my_metadata)"
   ]
  },
  {
   "cell_type": "markdown",
   "metadata": {},
   "source": [
    "You can assign these avus to a data object or collection\n",
    "with atomic operations, but better is to use the `apply()` method\n",
    "of `Schema`.\n",
    "\n",
    "The `apply()` method uses `to_avus()` (and `validate()`) under the hood\n",
    "to do validation and generation of AVUs, but before actually applying the\n",
    "metadata to the given iRODS collection of data object, it will\n",
    "check if there is already metadata linked to the schema, replace it and\n",
    "update the metadata related to the schema version. This way the behavior is\n",
    "consistent with that of the ManGO portal.\n",
    "\n",
    "```python\n",
    "my_schema.apply(my_object, my_metadata)\n",
    "```\n",
    "\n",
    "For all three methods (`apply()`, `to_avus()` and `validate()`) you can pass the\n",
    "parameters `set_defaults=False` and/or `convert=False` to disable the the\n",
    "first 2 steps of the validation: applying defaults and conversion.\n",
    "\n",
    "With the method `extract()` you can do the reverse, i.e. read the iRODS AVUs\n",
    "from a collection or data object, and convert the metadata to a dictionary with\n",
    "all values converted to their type as defined by the schema fields.\n",
    "\n",
    "```python\n",
    "my_metadata = my_schema.extract(my_object)\n",
    "```\n",
    "\n",
    "The `extract()` method calls `to_avus()` to unflatten the AVUs to a\n",
    "dictionary.\n",
    "\n",
    "As shown below, passing the AVUs generated by `to_avus()` back into\n",
    "`from_avus()`, will result in a dictionary identical to the one returned\n",
    "by the `validate()` method."
   ]
  },
  {
   "cell_type": "code",
   "execution_count": 7,
   "metadata": {},
   "outputs": [
    {
     "name": "stdout",
     "output_type": "stream",
     "text": [
      "Validated meta data converted to AVUs:\n",
      "{'author': [{'email': ['fulano.detal@kuleuven.be'], 'name': 'Fulano De Tal'}],\n",
      " 'ebook': 'Available',\n",
      " 'publisher': 'Tor',\n",
      " 'publishing_date': [datetime.date(2015, 2, 1)],\n",
      " 'title': 'A book not written yet'}\n",
      "Reconstructed metadata:\n",
      "{'author': [{'email': ['fulano.detal@kuleuven.be'], 'name': 'Fulano De Tal'}],\n",
      " 'ebook': 'Available',\n",
      " 'publisher': 'Tor',\n",
      " 'publishing_date': [datetime.date(2015, 2, 1)],\n",
      " 'title': 'A book not written yet'}\n"
     ]
    }
   ],
   "source": [
    "avus = my_schema.to_avus(my_metadata)\n",
    "reconstructed = my_schema.from_avus(avus)\n",
    "print(\"Validated meta data converted to AVUs:\")\n",
    "pprint(validated)\n",
    "print(\"Reconstructed metadata:\")\n",
    "pprint(reconstructed)"
   ]
  },
  {
   "cell_type": "markdown",
   "metadata": {},
   "source": [
    "## The `Schema` class\n",
    "\n",
    "The `Schema` class represents a schema. As such, it has `name` and `version`\n",
    "attributes, as well as the `prefix` used for all AVU names. The prefix is provided\n",
    "in the constructor (by default 'mgs') and is used in the namespacing of all\n",
    "metadata related to this schema. For example, initializing with\n",
    "`Schema('book-v2.0.0-published.json', 'irods')` would prefix all metadata\n",
    "names from this schema with 'irods.book'."
   ]
  },
  {
   "cell_type": "code",
   "execution_count": 8,
   "metadata": {},
   "outputs": [
    {
     "name": "stdout",
     "output_type": "stream",
     "text": [
      "Metadata annotated with the schema 'book' (current version: 2.0.0) carry the prefix 'mgs'.\n"
     ]
    }
   ],
   "source": [
    "print(f\"Metadata annotated with the schema '{my_schema.name}' (current version: {my_schema.version}) carry the prefix '{my_schema.prefix}'.\")"
   ]
  },
  {
   "cell_type": "markdown",
   "metadata": {},
   "source": [
    "When instantiating a `Schema`, some basic validation is performed. For example, only ‘published’ schemas are accepted."
   ]
  },
  {
   "cell_type": "code",
   "execution_count": 51,
   "metadata": {},
   "outputs": [
    {
     "name": "stdout",
     "output_type": "stream",
     "text": [
      "Exception reporting mode: Minimal\n",
      "draft\n"
     ]
    },
    {
     "ename": "ValueError",
     "evalue": "The schema is not published: it cannot be used to apply metadata!",
     "output_type": "error",
     "traceback": [
      "\u001b[0;31mValueError\u001b[0m\u001b[0;31m:\u001b[0m The schema is not published: it cannot be used to apply metadata!\n"
     ]
    }
   ],
   "source": [
    "%xmode Minimal\n",
    "import json\n",
    "with open('book-v3.0.0-draft.json', 'r', encoding=\"utf-8\") as f:\n",
    "    draft_schema = json.load(f)\n",
    "    print(draft_schema['status'])\n",
    "Schema('book-v3.0.0-draft.json')"
   ]
  },
  {
   "cell_type": "markdown",
   "metadata": {},
   "source": [
    "The code also checks that the fields make sense and have the necessary\n",
    "fields in the right format."
   ]
  },
  {
   "cell_type": "code",
   "execution_count": 52,
   "metadata": {},
   "outputs": [
    {
     "name": "stdout",
     "output_type": "stream",
     "text": [
      "{'title': {'required': True, 'title': 'Book title', 'type': 'title'}}\n"
     ]
    },
    {
     "ename": "KeyError",
     "evalue": "'Field type title is not supported.'",
     "output_type": "error",
     "traceback": [
      "\u001b[0;31mKeyError\u001b[0m\u001b[0;31m:\u001b[0m 'Field type title is not supported.'\n"
     ]
    }
   ],
   "source": [
    "with open('bad-schema.json', 'r', encoding=\"utf-8\") as f:\n",
    "    bad_schema = json.load(f)\n",
    "    pprint(bad_schema['properties'])\n",
    "Schema('bad-schema.json')"
   ]
  },
  {
   "cell_type": "markdown",
   "metadata": {},
   "source": [
    "If you are not entirely familiar with your schema, you can check its\n",
    "contents by printing it or listing its `required_fields` attribute. This\n",
    "attribute is a dictionary with the names of the required fields as keys and\n",
    "their default value, if available, as value. This is particularly\n",
    "important because you will only get errors if a required field *without\n",
    "default* is not provided or the value provided for it is wrong."
   ]
  },
  {
   "cell_type": "code",
   "execution_count": 12,
   "metadata": {},
   "outputs": [
    {
     "name": "stdout",
     "output_type": "stream",
     "text": [
      "\u001b[1mBook schema as an example\u001b[0m\n",
      "Metadata annotated with the schema 'book' (2.0.0) carry the prefix 'mgs'.\n",
      "This schema contains the following 7 fields:\n",
      "- \u001b[1mtitle\u001b[0m, of type 'text' (required).\n",
      "- \u001b[1mpublishing_date\u001b[0m, of type 'date' (required).\n",
      "- \u001b[1mcover_colors\u001b[0m, of type 'select'.\n",
      "- \u001b[1mpublisher\u001b[0m, of type 'select' (required).\n",
      "- \u001b[1mebook\u001b[0m, of type 'select'.\n",
      "- \u001b[1mauthor\u001b[0m, of type 'object' (required).\n",
      "- \u001b[1mmarket_price\u001b[0m, of type 'float'.\n"
     ]
    }
   ],
   "source": [
    "print(my_schema)"
   ]
  },
  {
   "cell_type": "code",
   "execution_count": 13,
   "metadata": {},
   "outputs": [
    {
     "data": {
      "text/plain": [
       "{'title': None, 'publishing_date': None, 'publisher': 'Tor', 'author': None}"
      ]
     },
     "execution_count": 13,
     "metadata": {},
     "output_type": "execute_result"
    }
   ],
   "source": [
    "my_schema.required_fields # note: 'author' is required because it contains required fields"
   ]
  },
  {
   "cell_type": "markdown",
   "metadata": {},
   "source": [
    "A schema also has a method to check the requirements of a specific\n",
    "field, namely whether they are required and have a default, whether they\n",
    "are repeatable, and any other characteristic used in validation."
   ]
  },
  {
   "cell_type": "code",
   "execution_count": 14,
   "metadata": {},
   "outputs": [
    {
     "name": "stdout",
     "output_type": "stream",
     "text": [
      "\u001b[1mType\u001b[0m: text.\n",
      "\u001b[1mRequired\u001b[0m: True. \u001b[1mDefault\u001b[0m: None.\n",
      "\u001b[1mRepeatable\u001b[0m: False.\n"
     ]
    }
   ],
   "source": [
    "my_schema.print_requirements('title')"
   ]
  },
  {
   "cell_type": "code",
   "execution_count": 15,
   "metadata": {},
   "outputs": [
    {
     "name": "stdout",
     "output_type": "stream",
     "text": [
      "\u001b[1mType\u001b[0m: select.\n",
      "\u001b[1mRequired\u001b[0m: False.\n",
      "\u001b[1mRepeatable\u001b[0m: False.\n",
      "Choose at least one of the following values:\n",
      "- red\n",
      "- blue\n",
      "- green\n",
      "- yellow\n"
     ]
    }
   ],
   "source": [
    "my_schema.print_requirements('cover_colors')"
   ]
  },
  {
   "cell_type": "markdown",
   "metadata": {},
   "source": [
    "When checking the requirements of a composite field, it also lists the requirements of its subfields."
   ]
  },
  {
   "cell_type": "code",
   "execution_count": 16,
   "metadata": {},
   "outputs": [
    {
     "name": "stdout",
     "output_type": "stream",
     "text": [
      "\u001b[1mType\u001b[0m: object.\n",
      "\u001b[1mRequired\u001b[0m: True. (2 of its 3 fields are required.)\n",
      "\u001b[1mRepeatable\u001b[0m: True.\n",
      "\n",
      "Composed of the following fields:\n",
      "\u001b[4mbook.author.name\u001b[0m\n",
      "\u001b[1mType\u001b[0m: text.\n",
      "\u001b[1mRequired\u001b[0m: True. \u001b[1mDefault\u001b[0m: None.\n",
      "\u001b[1mRepeatable\u001b[0m: False.\n",
      "\n",
      "\u001b[4mbook.author.age\u001b[0m\n",
      "\u001b[1mType\u001b[0m: integer.\n",
      "\u001b[1mRequired\u001b[0m: False.\n",
      "\u001b[1mRepeatable\u001b[0m: False.\n",
      "integer between 12 and 99.\n",
      "\n",
      "\u001b[4mbook.author.email\u001b[0m\n",
      "\u001b[1mType\u001b[0m: email.\n",
      "\u001b[1mRequired\u001b[0m: True. \u001b[1mDefault\u001b[0m: None.\n",
      "\u001b[1mRepeatable\u001b[0m: True.\n",
      "fully matching the following regex: \u001b[91m^[^@]+@kuleuven.be$\u001b[0m.\n"
     ]
    }
   ],
   "source": [
    "my_schema.print_requirements('author')"
   ]
  },
  {
   "cell_type": "markdown",
   "metadata": {},
   "source": [
    "Composite fields also have `required_fields` attributes and, like schemas, a `fields` attribute listing all the fields."
   ]
  },
  {
   "cell_type": "code",
   "execution_count": 17,
   "metadata": {},
   "outputs": [
    {
     "data": {
      "text/plain": [
       "{'name': None, 'email': None}"
      ]
     },
     "execution_count": 17,
     "metadata": {},
     "output_type": "execute_result"
    }
   ],
   "source": [
    "my_schema.fields['author'].required_fields"
   ]
  },
  {
   "cell_type": "markdown",
   "metadata": {},
   "source": [
    "## Metadata format\n",
    "\n",
    "The `metadata` argument of `Schema.validate()`, `Schema.to_avus()` and `Schema.apply()`\n",
    "(which calls `Schema.validate()` and `Schema.to_avus()` for you) must be a dictionary\n",
    "in which the keys represent the names/IDs of the fields *without namespacing* and\n",
    "the values, the value of the AVU to add.\n",
    "\n",
    "If the field is a checkbox for which multiple values have been selected _or_ a\n",
    "repeatable field with multiple values, then the value in the dictionary should be a\n",
    "list of such values. For example, the code below includes metadata for a checkbox.\n",
    "As you can see, this generates multiple AVUs with the same name and different values."
   ]
  },
  {
   "cell_type": "code",
   "execution_count": 18,
   "metadata": {},
   "outputs": [
    {
     "data": {
      "text/plain": [
       "[<iRODSMeta None mgs.book.title A book not written yet None>,\n",
       " <iRODSMeta None mgs.book.author.name Fulano De Tal 1>,\n",
       " <iRODSMeta None mgs.book.author.email fulano.detal@kuleuven.be 1>,\n",
       " <iRODSMeta None mgs.book.ebook Available None>,\n",
       " <iRODSMeta None mgs.book.publishing_date 2015-02-01 None>,\n",
       " <iRODSMeta None mgs.book.cover_colors red None>,\n",
       " <iRODSMeta None mgs.book.cover_colors blue None>,\n",
       " <iRODSMeta None mgs.book.publisher Tor None>]"
      ]
     },
     "execution_count": 18,
     "metadata": {},
     "output_type": "execute_result"
    }
   ],
   "source": [
    "my_metadata.update({'cover_colors' : ['red', 'blue']})\n",
    "my_schema.to_avus(my_metadata)"
   ]
  },
  {
   "cell_type": "markdown",
   "metadata": {},
   "source": [
    "For composite fields, the value should be a dictionary with the same format: keys are field names without namespacing and values, the right value. In this case, we are providing the following values for 'author', which is a composite field:\n",
    "\n",
    "```python\n",
    "{ 'name': 'Fulano De Tal', 'email': 'fulano.detal@kuleuven.be' }\n",
    "```\n",
    "\n",
    "This results in two AVUs with `mgs.book.author.name` and `mgs.book.author.email` as name, respectively, the corresponding values, and `1` as unit.\n",
    "The goal of the unit is to keep AVUs within the same composite field together, particularly when the composite field is repeatable. For example, we could submit two authors by providing a list with two dictionaries.\n",
    "As a result, we get two AVUs with `mgs.book.author.name` and two with `mgs.book.author.email`, and the unit indicates which email goes with each name."
   ]
  },
  {
   "cell_type": "code",
   "execution_count": 19,
   "metadata": {},
   "outputs": [
    {
     "data": {
      "text/plain": [
       "{'name': 'Fulano De Tal', 'email': 'fulano.detal@kuleuven.be'}"
      ]
     },
     "execution_count": 19,
     "metadata": {},
     "output_type": "execute_result"
    }
   ],
   "source": [
    "my_metadata['author']"
   ]
  },
  {
   "cell_type": "code",
   "execution_count": 20,
   "metadata": {},
   "outputs": [
    {
     "data": {
      "text/plain": [
       "[<iRODSMeta None mgs.book.author.name Fulano De Tal 1>,\n",
       " <iRODSMeta None mgs.book.author.email fulano.detal@kuleuven.be 1>,\n",
       " <iRODSMeta None mgs.book.author.name Jane Doe 2>,\n",
       " <iRODSMeta None mgs.book.author.email jane_doe@kuleuven.be 2>]"
      ]
     },
     "execution_count": 20,
     "metadata": {},
     "output_type": "execute_result"
    }
   ],
   "source": [
    "my_metadata['author'] = [\n",
    "    {'name': 'Fulano De Tal', 'email': 'fulano.detal@kuleuven.be'},\n",
    "    {'name': 'Jane Doe', 'email': 'jane_doe@kuleuven.be'}\n",
    "]\n",
    "avus = my_schema.to_avus(my_metadata)\n",
    "[x for x in avus if x.name.startswith('mgs.book.author')]"
   ]
  },
  {
   "cell_type": "markdown",
   "metadata": {},
   "source": [
    "Actually, the email of the author is also a repeatable field, so we could get more instances of `mgs.book.author.email`, always with the unit indicating who it belongs to."
   ]
  },
  {
   "cell_type": "code",
   "execution_count": 21,
   "metadata": {},
   "outputs": [
    {
     "data": {
      "text/plain": [
       "[<iRODSMeta None mgs.book.author.name Fulano De Tal 1>,\n",
       " <iRODSMeta None mgs.book.author.email fulano.detal@kuleuven.be 1>,\n",
       " <iRODSMeta None mgs.book.author.name Jane Doe 2>,\n",
       " <iRODSMeta None mgs.book.author.email jane_doe@kuleuven.be 2>,\n",
       " <iRODSMeta None mgs.book.author.email sweetdoe@kuleuven.be 2>]"
      ]
     },
     "execution_count": 21,
     "metadata": {},
     "output_type": "execute_result"
    }
   ],
   "source": [
    "my_metadata['author'][1]['email'] = ['jane_doe@kuleuven.be', 'sweetdoe@kuleuven.be']\n",
    "avus = my_schema.to_avus(my_metadata)\n",
    "[x for x in avus if x.name.startswith('mgs.book.author')]"
   ]
  },
  {
   "cell_type": "markdown",
   "metadata": {},
   "source": [
    "## Verbose logging\n",
    "\n",
    "To enable verbose logging for the `mango_mdschema` package, you can use the\n",
    "[`logging`](https://docs.python.org/3/library/logging.html) module to increase\n",
    "the logging level for the package:"
   ]
  },
  {
   "cell_type": "code",
   "execution_count": 22,
   "metadata": {},
   "outputs": [],
   "source": [
    "import logging\n",
    "logger = logging.getLogger(\"mango_mdschema\")\n",
    "# logger.setLevel(logging.INFO)"
   ]
  },
  {
   "cell_type": "markdown",
   "metadata": {},
   "source": [
    "## Metadata validation\n",
    "\n",
    "The validation works in 3 steps:\n",
    "\n",
    "1. Any missing or empty values will be set to their default value if defined\n",
    "in the schema, for both required and non-required fields.\n",
    "\n",
    "2. All values in the metadata dictionary (with added defaults) are converted\n",
    "to their Python representation for validation (e.g. dates in string format are\n",
    "converted to `datetime.date` objects).\n",
    "\n",
    "3. The converted metadata (loaded withe defaults) is validated.\n",
    "\n",
    "> **Warning**: Setting defaults in the ManGO portal works different than this\n",
    "package. On the portal, a default value is only applied when a field is required.\n",
    "\n",
    "If a required field is missing, and there is no default value, it will throw an error."
   ]
  },
  {
   "cell_type": "code",
   "execution_count": 26,
   "metadata": {},
   "outputs": [
    {
     "name": "stdout",
     "output_type": "stream",
     "text": [
      "Exception reporting mode: Minimal\n"
     ]
    },
    {
     "ename": "ValidationError",
     "evalue": "Missing required fields in 'book': ['publishing_date', 'author']",
     "output_type": "error",
     "traceback": [
      "\u001b[0;31mValidationError\u001b[0m\u001b[0;31m:\u001b[0m Missing required fields in 'book': ['publishing_date', 'author']\n"
     ]
    }
   ],
   "source": [
    "%xmode Minimal\n",
    "my_schema.validate({'title': 'I only have a title'})"
   ]
  },
  {
   "cell_type": "markdown",
   "metadata": {},
   "source": [
    "If a required field is missing and there is a default value, you will only get\n",
    "a warning if the log level is set to `INFO`; the default value is then used.\n",
    "\n",
    "If a non-required field is missing, you will only get a warning if the log level\n",
    "is set to `INFO`."
   ]
  },
  {
   "cell_type": "code",
   "execution_count": 27,
   "metadata": {},
   "outputs": [
    {
     "name": "stderr",
     "output_type": "stream",
     "text": [
      "INFO:mango_mdschema:Applying default value to required field 'book.publisher': 'Tor'\n",
      "INFO:mango_mdschema:Missing non-required fields in 'book': ['market_price']\n",
      "INFO:mango_mdschema:Missing non-required fields in 'book.author': ['age']\n",
      "INFO:mango_mdschema:Missing non-required fields in 'book.author': ['age']\n"
     ]
    },
    {
     "data": {
      "text/plain": [
       "[<iRODSMeta None mgs.book.title A book not written yet None>,\n",
       " <iRODSMeta None mgs.book.author.name Fulano De Tal 1>,\n",
       " <iRODSMeta None mgs.book.author.email fulano.detal@kuleuven.be 1>,\n",
       " <iRODSMeta None mgs.book.author.name Jane Doe 2>,\n",
       " <iRODSMeta None mgs.book.author.email jane_doe@kuleuven.be 2>,\n",
       " <iRODSMeta None mgs.book.author.email sweetdoe@kuleuven.be 2>,\n",
       " <iRODSMeta None mgs.book.ebook Available None>,\n",
       " <iRODSMeta None mgs.book.publishing_date 2015-02-01 None>,\n",
       " <iRODSMeta None mgs.book.cover_colors red None>,\n",
       " <iRODSMeta None mgs.book.cover_colors blue None>,\n",
       " <iRODSMeta None mgs.book.publisher Tor None>]"
      ]
     },
     "execution_count": 27,
     "metadata": {},
     "output_type": "execute_result"
    }
   ],
   "source": [
    "logger.setLevel(logging.INFO)\n",
    "my_schema.to_avus(my_metadata)"
   ]
  },
  {
   "cell_type": "markdown",
   "metadata": {},
   "source": [
    "If a field is provided that is not included in a schema, it will be ignored,\n",
    "and you will only get warning if the log level is set to `INFO`."
   ]
  },
  {
   "cell_type": "code",
   "execution_count": 28,
   "metadata": {},
   "outputs": [
    {
     "name": "stderr",
     "output_type": "stream",
     "text": [
      "INFO:mango_mdschema:Applying default value to required field 'book.publisher': 'Tor'\n",
      "INFO:mango_mdschema:Following unknown fields in 'book' will be ignored: ['publishing_house'].\n",
      "INFO:mango_mdschema:Missing non-required fields in 'book': ['cover_colors', 'ebook', 'market_price']\n",
      "INFO:mango_mdschema:Missing non-required fields in 'book.author': ['age']\n"
     ]
    },
    {
     "data": {
      "text/plain": [
       "[<iRODSMeta None mgs.book.title I only have a title None>,\n",
       " <iRODSMeta None mgs.book.publishing_date 2023-04-28 None>,\n",
       " <iRODSMeta None mgs.book.author.name Name Surname 1>,\n",
       " <iRODSMeta None mgs.book.author.email rightemail@kuleuven.be 1>,\n",
       " <iRODSMeta None mgs.book.publisher Tor None>]"
      ]
     },
     "execution_count": 28,
     "metadata": {},
     "output_type": "execute_result"
    }
   ],
   "source": [
    "logger.setLevel(logging.INFO)\n",
    "mini_md = {'title' : 'I only have a title', 'publishing_date' : '2023-04-28',\n",
    "           'author' : {'name' : 'Name Surname', 'email' : 'rightemail@kuleuven.be'},\n",
    "           'publishing_house' : 'Oxford'}\n",
    "my_schema.to_avus(mini_md)"
   ]
  },
  {
   "cell_type": "code",
   "execution_count": 29,
   "metadata": {},
   "outputs": [],
   "source": [
    "del mini_md['publishing_house']"
   ]
  },
  {
   "cell_type": "markdown",
   "metadata": {},
   "source": [
    "Once the defaults has been set for fields with empty or missing value, and\n",
    "the values have been converted to their proper Python representation,\n",
    "the values are actually validated against the requirements of the fields.\n",
    "\n",
    "The `validators` package is used to validate the range of numbers as well\n",
    "as email and urls.\n",
    "\n",
    "Any invalid data will always result in a `ValidationError` exception\n",
    "during this validation step.\n",
    "\n",
    "As mentioned above in section \"Basic Workflow\", for all three Schema\n",
    "methods (`apply()`, `to_avus()` and `validate()`) you can use\n",
    "`set_defaults=False` and/or `convert=False` to disable application of\n",
    "defaults and/or conversion."
   ]
  },
  {
   "cell_type": "markdown",
   "metadata": {},
   "source": [
    "### Numbers\n",
    "\n",
    "Integer and float simple fields must be of type `int` or `float` respectively, or\n",
    "something that can be converted to such format.\n",
    "\n",
    "Numeric fields can have a _minimum_ and _maximum_ property and during validation\n",
    "it's checked that the number is within the provided range."
   ]
  },
  {
   "cell_type": "code",
   "execution_count": 30,
   "metadata": {},
   "outputs": [
    {
     "name": "stderr",
     "output_type": "stream",
     "text": [
      "INFO:mango_mdschema:Applying default value to required field 'book.publisher': 'Tor'\n",
      "INFO:mango_mdschema:Missing non-required fields in 'book': ['market_price']\n",
      "INFO:mango_mdschema:Missing non-required fields in 'book.author': ['age']\n"
     ]
    },
    {
     "data": {
      "text/plain": [
       "[<iRODSMeta None mgs.book.author.name Fulano De Tal 1>,\n",
       " <iRODSMeta None mgs.book.author.email fulano.detal@kuleuven.be 1>,\n",
       " <iRODSMeta None mgs.book.author.age 30 1>]"
      ]
     },
     "execution_count": 30,
     "metadata": {},
     "output_type": "execute_result"
    }
   ],
   "source": [
    "my_metadata['author'][0]['age'] = 30\n",
    "avus = my_schema.to_avus(my_metadata)\n",
    "[x for x in avus if x.name.startswith('mgs.book.author') and x.units == '1']"
   ]
  },
  {
   "cell_type": "code",
   "execution_count": 31,
   "metadata": {},
   "outputs": [
    {
     "name": "stderr",
     "output_type": "stream",
     "text": [
      "INFO:mango_mdschema:Applying default value to required field 'book.publisher': 'Tor'\n",
      "INFO:mango_mdschema:Missing non-required fields in 'book': ['market_price']\n",
      "INFO:mango_mdschema:Missing non-required fields in 'book.author': ['age']\n"
     ]
    },
    {
     "data": {
      "text/plain": [
       "[<iRODSMeta None mgs.book.author.name Fulano De Tal 1>,\n",
       " <iRODSMeta None mgs.book.author.email fulano.detal@kuleuven.be 1>,\n",
       " <iRODSMeta None mgs.book.author.age 30 1>]"
      ]
     },
     "execution_count": 31,
     "metadata": {},
     "output_type": "execute_result"
    }
   ],
   "source": [
    "# provided as a string that can be converted with `int()`\n",
    "my_metadata['author'][0]['age'] = '30'\n",
    "avus = my_schema.to_avus(my_metadata)\n",
    "[x for x in avus if x.name.startswith('mgs.book.author') and x.units == '1']"
   ]
  },
  {
   "cell_type": "code",
   "execution_count": 32,
   "metadata": {},
   "outputs": [
    {
     "name": "stderr",
     "output_type": "stream",
     "text": [
      "INFO:mango_mdschema:Applying default value to required field 'book.publisher': 'Tor'\n",
      "INFO:mango_mdschema:Missing non-required fields in 'book': ['market_price']\n",
      "INFO:mango_mdschema:Missing non-required fields in 'book.author': ['age']\n"
     ]
    },
    {
     "data": {
      "text/plain": [
       "[<iRODSMeta None mgs.book.author.name Fulano De Tal 1>,\n",
       " <iRODSMeta None mgs.book.author.email fulano.detal@kuleuven.be 1>,\n",
       " <iRODSMeta None mgs.book.author.age 30 1>]"
      ]
     },
     "execution_count": 32,
     "metadata": {},
     "output_type": "execute_result"
    }
   ],
   "source": [
    "# provided as a float that can be converted with `int()`\n",
    "my_metadata['author'][0]['age'] = 30.5\n",
    "avus = my_schema.to_avus(my_metadata)\n",
    "[x for x in avus if x.name.startswith('mgs.book.author') and x.units == '1']"
   ]
  },
  {
   "cell_type": "code",
   "execution_count": 33,
   "metadata": {},
   "outputs": [
    {
     "name": "stderr",
     "output_type": "stream",
     "text": [
      "INFO:mango_mdschema:Applying default value to required field 'book.publisher': 'Tor'\n",
      "INFO:mango_mdschema:Missing non-required fields in 'book': ['market_price']\n"
     ]
    },
    {
     "name": "stdout",
     "output_type": "stream",
     "text": [
      "Exception reporting mode: Minimal\n"
     ]
    },
    {
     "ename": "ValidationError",
     "evalue": "'book.author.age' must be less than or equal to 99",
     "output_type": "error",
     "traceback": [
      "\u001b[0;31mValidationError\u001b[0m\u001b[0;31m:\u001b[0m 'book.author.age' must be less than or equal to 99\n"
     ]
    }
   ],
   "source": [
    "%xmode Minimal\n",
    "# wrong range: it should be between 12 and 99\n",
    "my_metadata['author'][0]['age'] = 103\n",
    "avus = my_schema.to_avus(my_metadata)\n",
    "[x for x in avus if x.name.startswith('mgs.book.author') and x.units == '1']"
   ]
  },
  {
   "cell_type": "code",
   "execution_count": 34,
   "metadata": {},
   "outputs": [
    {
     "name": "stderr",
     "output_type": "stream",
     "text": [
      "INFO:mango_mdschema:Applying default value to required field 'book.publisher': 'Tor'\n"
     ]
    },
    {
     "ename": "ConversionError",
     "evalue": "'book.author.age' cannot be converted to type integer, got value: 'thirty'",
     "output_type": "error",
     "traceback": [
      "\u001b[0;31mValueError\u001b[0m\u001b[0;31m:\u001b[0m invalid literal for int() with base 10: 'thirty'\n",
      "\nThe above exception was the direct cause of the following exception:\n",
      "\u001b[0;31mConversionError\u001b[0m\u001b[0;31m:\u001b[0m 'book.author.age' cannot be converted to type integer, got value: 'thirty'\n"
     ]
    }
   ],
   "source": [
    "# wrong format\n",
    "my_metadata['author'][0]['age'] = 'thirty'\n",
    "avus = my_schema.to_avus(my_metadata)\n",
    "[x for x in avus if x.name.startswith('mgs.book.author') and x.units == '1']"
   ]
  },
  {
   "cell_type": "markdown",
   "metadata": {},
   "source": [
    "Values are also checked if there are no minimum or maximum specified."
   ]
  },
  {
   "cell_type": "code",
   "execution_count": 37,
   "metadata": {},
   "outputs": [
    {
     "name": "stderr",
     "output_type": "stream",
     "text": [
      "INFO:mango_mdschema:Applying default value to required field 'book.publisher': 'Tor'\n",
      "INFO:mango_mdschema:Missing non-required fields in 'book': ['cover_colors', 'ebook']\n",
      "INFO:mango_mdschema:Missing non-required fields in 'book.author': ['age']\n"
     ]
    },
    {
     "data": {
      "text/plain": [
       "[<iRODSMeta None mgs.book.market_price 9.99 None>]"
      ]
     },
     "execution_count": 37,
     "metadata": {},
     "output_type": "execute_result"
    }
   ],
   "source": [
    "mini_md['market_price'] = 9.99\n",
    "avus = my_schema.to_avus(mini_md)\n",
    "[x for x in avus if x.name.endswith('price')]"
   ]
  },
  {
   "cell_type": "markdown",
   "metadata": {},
   "source": [
    "### Dates, times and datetimes\n",
    "Dates, times and datetimes can be provided as `datetime.date`, `datetime.time` or `datetime.datetime` objects or as strings that can be converted as such via their `fromisoformat()` or `fromtimestamp()` methods. The final value is a string in ISO Format."
   ]
  },
  {
   "cell_type": "code",
   "execution_count": 38,
   "metadata": {},
   "outputs": [],
   "source": [
    "from datetime import date\n",
    "import time"
   ]
  },
  {
   "cell_type": "code",
   "execution_count": 39,
   "metadata": {},
   "outputs": [
    {
     "name": "stderr",
     "output_type": "stream",
     "text": [
      "INFO:mango_mdschema:Applying default value to required field 'book.publisher': 'Tor'\n",
      "INFO:mango_mdschema:Missing non-required fields in 'book': ['cover_colors', 'ebook']\n",
      "INFO:mango_mdschema:Missing non-required fields in 'book.author': ['age']\n"
     ]
    },
    {
     "data": {
      "text/plain": [
       "[<iRODSMeta None mgs.book.title I only have a title None>,\n",
       " <iRODSMeta None mgs.book.publishing_date 2024-01-27 None>,\n",
       " <iRODSMeta None mgs.book.author.name Name Surname 1>,\n",
       " <iRODSMeta None mgs.book.author.email rightemail@kuleuven.be 1>,\n",
       " <iRODSMeta None mgs.book.market_price 9.99 None>,\n",
       " <iRODSMeta None mgs.book.publisher Tor None>]"
      ]
     },
     "execution_count": 39,
     "metadata": {},
     "output_type": "execute_result"
    }
   ],
   "source": [
    "mini_md['publishing_date'] = date.today()\n",
    "my_schema.to_avus(mini_md)"
   ]
  },
  {
   "cell_type": "code",
   "execution_count": 40,
   "metadata": {},
   "outputs": [
    {
     "name": "stderr",
     "output_type": "stream",
     "text": [
      "INFO:mango_mdschema:Applying default value to required field 'book.publisher': 'Tor'\n",
      "INFO:mango_mdschema:Missing non-required fields in 'book': ['cover_colors', 'ebook']\n",
      "INFO:mango_mdschema:Missing non-required fields in 'book.author': ['age']\n"
     ]
    },
    {
     "data": {
      "text/plain": [
       "[<iRODSMeta None mgs.book.title I only have a title None>,\n",
       " <iRODSMeta None mgs.book.publishing_date 2024-01-27 None>,\n",
       " <iRODSMeta None mgs.book.author.name Name Surname 1>,\n",
       " <iRODSMeta None mgs.book.author.email rightemail@kuleuven.be 1>,\n",
       " <iRODSMeta None mgs.book.market_price 9.99 None>,\n",
       " <iRODSMeta None mgs.book.publisher Tor None>]"
      ]
     },
     "execution_count": 40,
     "metadata": {},
     "output_type": "execute_result"
    }
   ],
   "source": [
    "mini_md['publishing_date'] = date.fromtimestamp(time.time())\n",
    "my_schema.to_avus(mini_md)"
   ]
  },
  {
   "cell_type": "code",
   "execution_count": 41,
   "metadata": {},
   "outputs": [
    {
     "name": "stderr",
     "output_type": "stream",
     "text": [
      "INFO:mango_mdschema:Applying default value to required field 'book.publisher': 'Tor'\n"
     ]
    },
    {
     "name": "stdout",
     "output_type": "stream",
     "text": [
      "Exception reporting mode: Minimal\n"
     ]
    },
    {
     "ename": "ConversionError",
     "evalue": "'book.publishing_date' cannot be converted to date, got value: '03/11/1990'",
     "output_type": "error",
     "traceback": [
      "\u001b[0;31mValueError\u001b[0m\u001b[0;31m:\u001b[0m Invalid isoformat string: '03/11/1990'\n",
      "\nThe above exception was the direct cause of the following exception:\n",
      "\u001b[0;31mConversionError\u001b[0m\u001b[0;31m:\u001b[0m 'book.publishing_date' cannot be converted to date, got value: '03/11/1990'\n"
     ]
    }
   ],
   "source": [
    "%xmode Minimal\n",
    "mini_md['publishing_date'] = '03/11/1990'\n",
    "my_schema.validate(mini_md)"
   ]
  },
  {
   "cell_type": "markdown",
   "metadata": {},
   "source": [
    "### URLs and emails\n",
    "\n",
    "In the example below, _one_ of the provided emails is wrong, which will throw\n",
    "an error."
   ]
  },
  {
   "cell_type": "code",
   "execution_count": 42,
   "metadata": {
    "scrolled": true
   },
   "outputs": [
    {
     "name": "stderr",
     "output_type": "stream",
     "text": [
      "INFO:mango_mdschema:Applying default value to required field 'book.publisher': 'Tor'\n",
      "INFO:mango_mdschema:Missing non-required fields in 'book': ['market_price']\n",
      "INFO:mango_mdschema:Missing non-required fields in 'book.author': ['age']\n"
     ]
    },
    {
     "name": "stdout",
     "output_type": "stream",
     "text": [
      "Exception reporting mode: Minimal\n"
     ]
    },
    {
     "ename": "ValidationError",
     "evalue": "'book.author.email' does not match pattern '^[^@]+@kuleuven.be$', got value: 'bademail@whatevs'",
     "output_type": "error",
     "traceback": [
      "\u001b[0;31mValidationError\u001b[0m\u001b[0;31m:\u001b[0m 'book.author.email' does not match pattern '^[^@]+@kuleuven.be$', got value: 'bademail@whatevs'\n"
     ]
    }
   ],
   "source": [
    "%xmode Minimal\n",
    "my_metadata['author'][0]['age'] = 30\n",
    "my_metadata['author'][1]['email'].append('bademail@whatevs')\n",
    "my_schema.validate(my_metadata)"
   ]
  },
  {
   "cell_type": "code",
   "execution_count": 43,
   "metadata": {},
   "outputs": [
    {
     "data": {
      "text/plain": [
       "'bademail@whatevs'"
      ]
     },
     "execution_count": 43,
     "metadata": {},
     "output_type": "execute_result"
    }
   ],
   "source": [
    "my_metadata['author'][1]['email'].pop()"
   ]
  },
  {
   "cell_type": "markdown",
   "metadata": {},
   "source": [
    "### Regular expressions\n",
    "\n",
    "URLs, emails and simple text can also have a `pattern` attribute providing a regular expression that checks its appropriateness. In the case of these emails, we have additional validation to make sure that the domain is \"kuleuven.be\":"
   ]
  },
  {
   "cell_type": "code",
   "execution_count": 44,
   "metadata": {},
   "outputs": [
    {
     "name": "stdout",
     "output_type": "stream",
     "text": [
      "\u001b[1mType\u001b[0m: object.\n",
      "\u001b[1mRequired\u001b[0m: True. (2 of its 3 fields are required.)\n",
      "\u001b[1mRepeatable\u001b[0m: True.\n",
      "\n",
      "Composed of the following fields:\n",
      "\u001b[4mbook.author.name\u001b[0m\n",
      "\u001b[1mType\u001b[0m: text.\n",
      "\u001b[1mRequired\u001b[0m: True. \u001b[1mDefault\u001b[0m: None.\n",
      "\u001b[1mRepeatable\u001b[0m: False.\n",
      "\n",
      "\u001b[4mbook.author.age\u001b[0m\n",
      "\u001b[1mType\u001b[0m: integer.\n",
      "\u001b[1mRequired\u001b[0m: False.\n",
      "\u001b[1mRepeatable\u001b[0m: False.\n",
      "integer between 12 and 99.\n",
      "\n",
      "\u001b[4mbook.author.email\u001b[0m\n",
      "\u001b[1mType\u001b[0m: email.\n",
      "\u001b[1mRequired\u001b[0m: True. \u001b[1mDefault\u001b[0m: None.\n",
      "\u001b[1mRepeatable\u001b[0m: True.\n",
      "fully matching the following regex: \u001b[91m^[^@]+@kuleuven.be$\u001b[0m.\n"
     ]
    }
   ],
   "source": [
    "my_schema.print_requirements('author')"
   ]
  },
  {
   "cell_type": "code",
   "execution_count": 45,
   "metadata": {},
   "outputs": [
    {
     "name": "stderr",
     "output_type": "stream",
     "text": [
      "INFO:mango_mdschema:Applying default value to required field 'book.publisher': 'Tor'\n",
      "INFO:mango_mdschema:Missing non-required fields in 'book': ['market_price']\n",
      "INFO:mango_mdschema:Missing non-required fields in 'book.author': ['age']\n"
     ]
    },
    {
     "ename": "ValidationError",
     "evalue": "'book.author.email' does not match pattern '^[^@]+@kuleuven.be$', got value: 'wrong_domain@gmail.com'",
     "output_type": "error",
     "traceback": [
      "\u001b[0;31mValidationError\u001b[0m\u001b[0;31m:\u001b[0m 'book.author.email' does not match pattern '^[^@]+@kuleuven.be$', got value: 'wrong_domain@gmail.com'\n"
     ]
    }
   ],
   "source": [
    "my_metadata['author'][0]['age'] = 30\n",
    "my_metadata['author'][1]['email'].append('wrong_domain@gmail.com')\n",
    "my_schema.to_avus(my_metadata)"
   ]
  },
  {
   "cell_type": "code",
   "execution_count": 46,
   "metadata": {},
   "outputs": [
    {
     "data": {
      "text/plain": [
       "'wrong_domain@gmail.com'"
      ]
     },
     "execution_count": 46,
     "metadata": {},
     "output_type": "execute_result"
    }
   ],
   "source": [
    "my_metadata['author'][1]['email'].pop()"
   ]
  },
  {
   "cell_type": "markdown",
   "metadata": {},
   "source": [
    "### Composite fields\n",
    "\n",
    "Within composite fields, the same rules apply as for schemas. First, presence is checked: required\n",
    "values without default throw an error when they are missing, while other cases of missing\n",
    "or unknown fields will only write log messages (if log level set to `INFO`).\n",
    "\n",
    "Moreover, composite fields are never required themselves based on the schema,\n",
    "but they are required if any of their fields are required.\n",
    "\n",
    "As shown above, bad values throw warnings in all cases."
   ]
  },
  {
   "cell_type": "code",
   "execution_count": 47,
   "metadata": {},
   "outputs": [
    {
     "name": "stderr",
     "output_type": "stream",
     "text": [
      "INFO:mango_mdschema:Applying default value to required field 'book.publisher': 'Tor'\n",
      "INFO:mango_mdschema:Missing non-required fields in 'book': ['market_price']\n",
      "INFO:mango_mdschema:Missing non-required fields in 'book.author': ['age']\n",
      "INFO:mango_mdschema:Missing non-required fields in 'book.author': ['age']\n",
      "INFO:mango_mdschema:Missing required fields in 'book.author': ['email']\n"
     ]
    },
    {
     "name": "stdout",
     "output_type": "stream",
     "text": [
      "Exception reporting mode: Minimal\n"
     ]
    },
    {
     "ename": "ValidationError",
     "evalue": "Missing required fields in 'book.author': ['email']",
     "output_type": "error",
     "traceback": [
      "\u001b[0;31mValidationError\u001b[0m\u001b[0;31m:\u001b[0m Missing required fields in 'book.author': ['email']\n"
     ]
    }
   ],
   "source": [
    "%xmode Minimal\n",
    "my_metadata['author'].append({'name' : 'etal'})\n",
    "my_schema.validate(my_metadata)"
   ]
  },
  {
   "cell_type": "code",
   "execution_count": 48,
   "metadata": {},
   "outputs": [
    {
     "name": "stderr",
     "output_type": "stream",
     "text": [
      "INFO:mango_mdschema:Applying default value to required field 'book.publisher': 'Tor'\n",
      "INFO:mango_mdschema:Missing non-required fields in 'book': ['market_price']\n",
      "INFO:mango_mdschema:Missing non-required fields in 'book.author': ['age']\n",
      "INFO:mango_mdschema:Missing non-required fields in 'book.author': ['age']\n"
     ]
    },
    {
     "name": "stdout",
     "output_type": "stream",
     "text": [
      "Exception reporting mode: Minimal\n"
     ]
    },
    {
     "ename": "ValidationError",
     "evalue": "'book.author.email' does not match pattern '^[^@]+@kuleuven.be$', got value: 'bademail.com'",
     "output_type": "error",
     "traceback": [
      "\u001b[0;31mValidationError\u001b[0m\u001b[0;31m:\u001b[0m 'book.author.email' does not match pattern '^[^@]+@kuleuven.be$', got value: 'bademail.com'\n"
     ]
    }
   ],
   "source": [
    "%xmode Minimal\n",
    "my_metadata['author'][2]['email'] = 'bademail.com'\n",
    "my_schema.validate(my_metadata)"
   ]
  },
  {
   "cell_type": "code",
   "execution_count": 49,
   "metadata": {},
   "outputs": [
    {
     "name": "stderr",
     "output_type": "stream",
     "text": [
      "INFO:mango_mdschema:Applying default value to required field 'book.publisher': 'Tor'\n",
      "INFO:mango_mdschema:Missing non-required fields in 'book': ['market_price']\n",
      "INFO:mango_mdschema:Missing non-required fields in 'book.author': ['age']\n",
      "INFO:mango_mdschema:Missing non-required fields in 'book.author': ['age']\n"
     ]
    },
    {
     "data": {
      "text/plain": [
       "{'title': 'A book not written yet',\n",
       " 'author': [{'name': 'Fulano De Tal',\n",
       "   'email': ['fulano.detal@kuleuven.be'],\n",
       "   'age': 30},\n",
       "  {'name': 'Jane Doe',\n",
       "   'email': ['jane_doe@kuleuven.be', 'sweetdoe@kuleuven.be']},\n",
       "  {'name': 'etal', 'email': ['bademail@kuleuven.be']}],\n",
       " 'ebook': 'Available',\n",
       " 'publishing_date': [datetime.date(2015, 2, 1)],\n",
       " 'cover_colors': ['red', 'blue'],\n",
       " 'publisher': 'Tor'}"
      ]
     },
     "execution_count": 49,
     "metadata": {},
     "output_type": "execute_result"
    }
   ],
   "source": [
    "my_metadata['author'][2]['email'] = 'bademail@kuleuven.be'\n",
    "my_schema.validate(my_metadata)"
   ]
  },
  {
   "cell_type": "markdown",
   "metadata": {},
   "source": [
    "## Final notes on implementation\n",
    "\n",
    "The metadata can be applied to an object or collection `item` with\n",
    "`my_schema.apply(item, my_metadata)`, which basically calls `to_avus()`\n",
    "on the schema and adds the generated list to `item.metadata.apply_atomic_operations()`,\n",
    "adding each of the AVUs.\n",
    "\n",
    "In addition, another AVU is added with name `{prefix}.__version__` (e.g. `mgs.book.__version__`)\n",
    "indicating the version of the schema used for annotation (in this case, \"2.0.0\").\n",
    "\n",
    "However, before actually adding the metadata, `apply()` does two things:\n",
    "\n",
    "- It checks whether there already is a `{prefix}.__version__` AVU and prints a\n",
    "warning if it's different from the version of the current schema.\n",
    "- It removes all existing metadata with the same prefix.\n",
    "\n",
    "This is the same behavior from the ManGO portal: it replaces all existing\n",
    "metadata linked to a schema with the metadata provided in this instance."
   ]
  }
 ],
 "metadata": {
  "kernelspec": {
   "display_name": "Python 3 (ipykernel)",
   "language": "python",
   "name": "python3"
  },
  "language_info": {
   "codemirror_mode": {
    "name": "ipython",
    "version": 3
   },
   "file_extension": ".py",
   "mimetype": "text/x-python",
   "name": "python",
   "nbconvert_exporter": "python",
   "pygments_lexer": "ipython3",
   "version": "3.10.13"
  }
 },
 "nbformat": 4,
 "nbformat_minor": 4
}
