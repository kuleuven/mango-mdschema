{
 "cells": [
  {
   "cell_type": "raw",
   "metadata": {},
   "source": [
    "---\n",
    "title: \"Metadata schemas in Python\"\n",
    "format: gfm\n",
    "---"
   ]
  },
  {
   "cell_type": "markdown",
   "metadata": {},
   "source": [
    "This tutorial shows you\n",
    "- The basic workflow with this package\n",
    "- The contents and possibilities of the `Schema` class\n",
    "- What the dictionary with metadata should look like\n",
    "- What throws errors or warnings in validation"
   ]
  },
  {
   "cell_type": "markdown",
   "metadata": {},
   "source": [
    "# Basic workflow\n",
    "In the most basic use case of the package, you create a `Schema` instance with the path to your JSON schema (which should follow a specific format), you have a dictionary with name-value pairs for metadata, and you apply them to one or more iRODS objects (data objects or collections).\n",
    "\n",
    "In this tutorial we won't show how to apply them (see the README at the top of the repository) but how to check that the metadata is compatible with the schema, what requirements are checked and what the consequences of mismatches are."
   ]
  },
  {
   "cell_type": "code",
   "execution_count": 3,
   "metadata": {},
   "outputs": [
    {
     "name": "stdout",
     "output_type": "stream",
     "text": [
      "Requirement already satisfied: python-irodsclient in /home/mariana/repos/gitea/u0118974/mango_mdschema_python/.venv/lib/python3.10/site-packages (1.1.9)\n",
      "Requirement already satisfied: six>=1.10.0 in /home/mariana/repos/gitea/u0118974/mango_mdschema_python/.venv/lib/python3.10/site-packages (from python-irodsclient) (1.16.0)\n",
      "Requirement already satisfied: defusedxml in /home/mariana/repos/gitea/u0118974/mango_mdschema_python/.venv/lib/python3.10/site-packages (from python-irodsclient) (0.7.1)\n",
      "Requirement already satisfied: PrettyTable>=0.7.2 in /home/mariana/repos/gitea/u0118974/mango_mdschema_python/.venv/lib/python3.10/site-packages (from python-irodsclient) (3.9.0)\n",
      "Requirement already satisfied: wcwidth in /home/mariana/repos/gitea/u0118974/mango_mdschema_python/.venv/lib/python3.10/site-packages (from PrettyTable>=0.7.2->python-irodsclient) (0.2.12)\n"
     ]
    }
   ],
   "source": [
    "!pip install python-irodsclient"
   ]
  },
  {
   "cell_type": "code",
   "execution_count": 1,
   "metadata": {},
   "outputs": [],
   "source": [
    "#| echo: false\n",
    "import sys\n",
    "sys.path.append('../')"
   ]
  },
  {
   "cell_type": "markdown",
   "metadata": {},
   "source": [
    "First we import what we need.\n",
    "The `Schema` class is the most important tool in this package: it reads a schema from file, validates it and lets you validate and apply metadata.\n",
    "`check_metadata()` is a function called by the `apply()` method of a `Schema` but you can use it to validate a dictionary of metadata against a schema."
   ]
  },
  {
   "cell_type": "code",
   "execution_count": 2,
   "metadata": {},
   "outputs": [
    {
     "ename": "ModuleNotFoundError",
     "evalue": "No module named 'irods'",
     "output_type": "error",
     "traceback": [
      "\u001b[0;31m---------------------------------------------------------------------------\u001b[0m",
      "\u001b[0;31mModuleNotFoundError\u001b[0m                       Traceback (most recent call last)",
      "Cell \u001b[0;32mIn[2], line 1\u001b[0m\n\u001b[0;32m----> 1\u001b[0m \u001b[38;5;28;01mfrom\u001b[39;00m \u001b[38;5;21;01mmango_mdschema\u001b[39;00m \u001b[38;5;28;01mimport\u001b[39;00m Schema, check_metadata\n",
      "File \u001b[0;32m~/repos/gitea/u0118974/mango_mdschema_python/tutorial/../mango_mdschema/__init__.py:1\u001b[0m\n\u001b[0;32m----> 1\u001b[0m \u001b[38;5;28;01mfrom\u001b[39;00m \u001b[38;5;21;01mmango_mdschema\u001b[39;00m\u001b[38;5;21;01m.\u001b[39;00m\u001b[38;5;21;01mschema\u001b[39;00m \u001b[38;5;28;01mimport\u001b[39;00m Schema\n\u001b[1;32m      2\u001b[0m \u001b[38;5;28;01mfrom\u001b[39;00m \u001b[38;5;21;01mmango_mdschema\u001b[39;00m\u001b[38;5;21;01m.\u001b[39;00m\u001b[38;5;21;01mhelpers\u001b[39;00m \u001b[38;5;28;01mimport\u001b[39;00m check_metadata\n",
      "File \u001b[0;32m~/repos/gitea/u0118974/mango_mdschema_python/tutorial/../mango_mdschema/schema.py:4\u001b[0m\n\u001b[1;32m      1\u001b[0m \u001b[38;5;28;01mimport\u001b[39;00m \u001b[38;5;21;01mjson\u001b[39;00m\n\u001b[1;32m      2\u001b[0m \u001b[38;5;28;01mimport\u001b[39;00m \u001b[38;5;21;01mlogging\u001b[39;00m\n\u001b[0;32m----> 4\u001b[0m \u001b[38;5;28;01mfrom\u001b[39;00m \u001b[38;5;21;01mirods\u001b[39;00m\u001b[38;5;21;01m.\u001b[39;00m\u001b[38;5;21;01mdata_object\u001b[39;00m \u001b[38;5;28;01mimport\u001b[39;00m iRODSDataObject\n\u001b[1;32m      5\u001b[0m \u001b[38;5;28;01mfrom\u001b[39;00m \u001b[38;5;21;01mirods\u001b[39;00m\u001b[38;5;21;01m.\u001b[39;00m\u001b[38;5;21;01mcollection\u001b[39;00m \u001b[38;5;28;01mimport\u001b[39;00m iRODSCollection\n\u001b[1;32m      6\u001b[0m \u001b[38;5;28;01mfrom\u001b[39;00m \u001b[38;5;21;01mirods\u001b[39;00m\u001b[38;5;21;01m.\u001b[39;00m\u001b[38;5;21;01mmeta\u001b[39;00m \u001b[38;5;28;01mimport\u001b[39;00m AVUOperation, iRODSMeta\n",
      "\u001b[0;31mModuleNotFoundError\u001b[0m: No module named 'irods'"
     ]
    }
   ],
   "source": [
    "from mango_mdschema import Schema, check_metadata"
   ]
  },
  {
   "cell_type": "markdown",
   "metadata": {},
   "source": [
    "Create a schema by providing the path to the file.\n",
    "(In the future, `pathlib.Path` objects will also be accepted).\n",
    "See below for more information about this class."
   ]
  },
  {
   "cell_type": "code",
   "execution_count": 4,
   "metadata": {},
   "outputs": [],
   "source": [
    "my_schema = Schema('book-v2.0.0-published.json')"
   ]
  },
  {
   "cell_type": "markdown",
   "metadata": {},
   "source": [
    "Provide the metadata as a dictionary with not-namespaced attribute names and values (see below for specifications). If you have multiple values for the same attribute name (i.e. in a repeatable field or a multiple-value multiple-choice field), you should provide them as an array."
   ]
  },
  {
   "cell_type": "code",
   "execution_count": 5,
   "metadata": {},
   "outputs": [],
   "source": [
    "my_metadata = {\n",
    "    'title' : \"A book not written yet\",\n",
    "    'author' : {\n",
    "        'name' : \"Fulano De Tal\",\n",
    "        'email' : \"fulano.detal@kuleuven.be\"\n",
    "    },\n",
    "    'ebook' : 'Available',\n",
    "    'publishing_date' : '2015-02-01'\n",
    "}"
   ]
  },
  {
   "cell_type": "markdown",
   "metadata": {},
   "source": [
    "Validate the metadata against the schema with `check_metadata()`. The `verbose` argument also prints warnings when non required fields or required fields with default values are not provided.\n",
    "The output of this function is a list of `irods.meta.iRODSMeta` objects with namespaced attribute names. \n",
    "\n",
    "You can now assign them to a data object or collection with atomic operations, or let this package do it by running `my_schema.apply(my_object, my_metadata)` instead. This also checks if there is already metadata linked to the schema and replaces it and updates the metadata related to the schema version, so it's more in line with what the ManGO portal does."
   ]
  },
  {
   "cell_type": "code",
   "execution_count": 6,
   "metadata": {},
   "outputs": [
    {
     "data": {
      "text/plain": [
       "[<iRODSMeta None mgs.book.title A book not written yet None>,\n",
       " <iRODSMeta None mgs.book.author.name Fulano De Tal 1>,\n",
       " <iRODSMeta None mgs.book.author.email fulano.detal@kuleuven.be 1>,\n",
       " <iRODSMeta None mgs.book.ebook Available None>,\n",
       " <iRODSMeta None mgs.book.publishing_date 2015-02-01 None>,\n",
       " <iRODSMeta None mgs.book.publisher Tor None>]"
      ]
     },
     "execution_count": 6,
     "metadata": {},
     "output_type": "execute_result"
    }
   ],
   "source": [
    "check_metadata(my_schema, my_metadata)"
   ]
  },
  {
   "cell_type": "markdown",
   "metadata": {},
   "source": [
    "## The `Schema` class\n",
    "\n",
    "The `Schema` class represents a schema. As such, it has `name` and `version` attributes, as well as the `prefix` used for all AVU names. The prefix is the combination of a prefix given in the constructor (by default 'mgs') and the name of the schema. For example, initializing with `Schema('book-v2.0.0-published.json', 'irods')` would generate the prefix 'irods.book' for all the metadata related to this schema."
   ]
  },
  {
   "cell_type": "code",
   "execution_count": 7,
   "metadata": {},
   "outputs": [
    {
     "data": {
      "text/plain": [
       "\"Metadata annotated with the schema 'book' (current version: 2.0.0) carry the prefix 'mgs.book'.\""
      ]
     },
     "execution_count": 7,
     "metadata": {},
     "output_type": "execute_result"
    }
   ],
   "source": [
    "f\"Metadata annotated with the schema '{my_schema.name}' (current version: {my_schema.version}) carry the prefix '{my_schema.prefix}'.\""
   ]
  },
  {
   "cell_type": "markdown",
   "metadata": {},
   "source": [
    "When instantiating a `Schema`, some basic validation is performed. For example, only 'published' schemas are accepted."
   ]
  },
  {
   "cell_type": "code",
   "execution_count": 8,
   "metadata": {},
   "outputs": [
    {
     "name": "stdout",
     "output_type": "stream",
     "text": [
      "draft\n"
     ]
    },
    {
     "ename": "ValueError",
     "evalue": "The schema is not published: it cannot be used to apply metadata!",
     "output_type": "error",
     "traceback": [
      "\u001b[0;31m---------------------------------------------------------------------------\u001b[0m",
      "\u001b[0;31mValueError\u001b[0m                                Traceback (most recent call last)",
      "Cell \u001b[0;32mIn[8], line 6\u001b[0m\n\u001b[1;32m      4\u001b[0m     draft_schema \u001b[39m=\u001b[39m json\u001b[39m.\u001b[39mload(f)\n\u001b[1;32m      5\u001b[0m     \u001b[39mprint\u001b[39m(draft_schema[\u001b[39m'\u001b[39m\u001b[39mstatus\u001b[39m\u001b[39m'\u001b[39m])\n\u001b[0;32m----> 6\u001b[0m Schema(\u001b[39m'\u001b[39;49m\u001b[39mbook-v3.0.0-draft.json\u001b[39;49m\u001b[39m'\u001b[39;49m)\n",
      "File \u001b[0;32m~/repos/gitea/u0118974/mango_mdschema_python/tutorial/../mango_mdschema/schema.py:55\u001b[0m, in \u001b[0;36mSchema.__init__\u001b[0;34m(self, path, prefix)\u001b[0m\n\u001b[1;32m     53\u001b[0m \u001b[39m# check that the schema is published\u001b[39;00m\n\u001b[1;32m     54\u001b[0m \u001b[39mif\u001b[39;00m schema[\u001b[39m\"\u001b[39m\u001b[39mstatus\u001b[39m\u001b[39m\"\u001b[39m] \u001b[39m!=\u001b[39m \u001b[39m\"\u001b[39m\u001b[39mpublished\u001b[39m\u001b[39m\"\u001b[39m:\n\u001b[0;32m---> 55\u001b[0m     \u001b[39mraise\u001b[39;00m \u001b[39mValueError\u001b[39;00m(\n\u001b[1;32m     56\u001b[0m         \u001b[39mf\u001b[39m\u001b[39m\"\u001b[39m\u001b[39mThe schema is not published: it cannot be used to apply metadata!\u001b[39m\u001b[39m\"\u001b[39m\n\u001b[1;32m     57\u001b[0m     )\n\u001b[1;32m     59\u001b[0m \u001b[39mself\u001b[39m\u001b[39m.\u001b[39mname \u001b[39m=\u001b[39m schema[\u001b[39m\"\u001b[39m\u001b[39mschema_name\u001b[39m\u001b[39m\"\u001b[39m]\n\u001b[1;32m     60\u001b[0m \u001b[39mself\u001b[39m\u001b[39m.\u001b[39mversion \u001b[39m=\u001b[39m schema[\u001b[39m\"\u001b[39m\u001b[39mversion\u001b[39m\u001b[39m\"\u001b[39m]\n",
      "\u001b[0;31mValueError\u001b[0m: The schema is not published: it cannot be used to apply metadata!"
     ]
    }
   ],
   "source": [
    "#| error: true\n",
    "import json\n",
    "with open('book-v3.0.0-draft.json', 'r') as f:\n",
    "    draft_schema = json.load(f)\n",
    "    print(draft_schema['status'])\n",
    "Schema('book-v3.0.0-draft.json')"
   ]
  },
  {
   "cell_type": "markdown",
   "metadata": {},
   "source": [
    "The code also checks that the fields make sense and have the necessary fields in the right format."
   ]
  },
  {
   "cell_type": "code",
   "execution_count": null,
   "metadata": {},
   "outputs": [
    {
     "name": "stdout",
     "output_type": "stream",
     "text": [
      "{'title': {'title': 'Book title', 'type': 'title', 'required': True}}\n"
     ]
    },
    {
     "ename": "ValueError",
     "evalue": "The type of the 'title' field is not valid.",
     "output_type": "error",
     "traceback": [
      "\u001b[0;31m---------------------------------------------------------------------------\u001b[0m",
      "\u001b[0;31mValueError\u001b[0m                                Traceback (most recent call last)",
      "Cell \u001b[0;32mIn[8], line 5\u001b[0m\n\u001b[1;32m      3\u001b[0m     bad_schema \u001b[38;5;241m=\u001b[39m json\u001b[38;5;241m.\u001b[39mload(f)\n\u001b[1;32m      4\u001b[0m     \u001b[38;5;28mprint\u001b[39m(bad_schema[\u001b[38;5;124m'\u001b[39m\u001b[38;5;124mproperties\u001b[39m\u001b[38;5;124m'\u001b[39m])\n\u001b[0;32m----> 5\u001b[0m \u001b[43mSchema\u001b[49m\u001b[43m(\u001b[49m\u001b[38;5;124;43m'\u001b[39;49m\u001b[38;5;124;43mbad-schema.json\u001b[39;49m\u001b[38;5;124;43m'\u001b[39;49m\u001b[43m)\u001b[49m\n",
      "File \u001b[0;32m~/repos/gitea/u0118974/mdschema_manager/tutorial/../mango_mdschema/schema.py:63\u001b[0m, in \u001b[0;36mSchema.__init__\u001b[0;34m(self, path, prefix)\u001b[0m\n\u001b[1;32m     61\u001b[0m \u001b[38;5;28mself\u001b[39m\u001b[38;5;241m.\u001b[39mprefix \u001b[38;5;241m=\u001b[39m \u001b[38;5;124mf\u001b[39m\u001b[38;5;124m\"\u001b[39m\u001b[38;5;132;01m{\u001b[39;00mprefix\u001b[38;5;132;01m}\u001b[39;00m\u001b[38;5;124m.\u001b[39m\u001b[38;5;132;01m{\u001b[39;00m\u001b[38;5;28mself\u001b[39m\u001b[38;5;241m.\u001b[39mname\u001b[38;5;132;01m}\u001b[39;00m\u001b[38;5;124m\"\u001b[39m\n\u001b[1;32m     62\u001b[0m \u001b[38;5;28mself\u001b[39m\u001b[38;5;241m.\u001b[39mtitle \u001b[38;5;241m=\u001b[39m schema[\u001b[38;5;124m\"\u001b[39m\u001b[38;5;124mtitle\u001b[39m\u001b[38;5;124m\"\u001b[39m] \u001b[38;5;28;01mif\u001b[39;00m schema[\u001b[38;5;124m\"\u001b[39m\u001b[38;5;124mtitle\u001b[39m\u001b[38;5;124m\"\u001b[39m] \u001b[38;5;28;01melse\u001b[39;00m \u001b[38;5;28mself\u001b[39m\u001b[38;5;241m.\u001b[39mname\n\u001b[0;32m---> 63\u001b[0m \u001b[38;5;28mself\u001b[39m\u001b[38;5;241m.\u001b[39mfields \u001b[38;5;241m=\u001b[39m {\n\u001b[1;32m     64\u001b[0m     k: Field\u001b[38;5;241m.\u001b[39mchoose_class(k, v) \u001b[38;5;28;01mfor\u001b[39;00m k, v \u001b[38;5;129;01min\u001b[39;00m schema[\u001b[38;5;124m\"\u001b[39m\u001b[38;5;124mproperties\u001b[39m\u001b[38;5;124m\"\u001b[39m]\u001b[38;5;241m.\u001b[39mitems()\n\u001b[1;32m     65\u001b[0m }\n\u001b[1;32m     66\u001b[0m \u001b[38;5;28;01mfor\u001b[39;00m subfield \u001b[38;5;129;01min\u001b[39;00m \u001b[38;5;28mself\u001b[39m\u001b[38;5;241m.\u001b[39mfields\u001b[38;5;241m.\u001b[39mvalues():\n\u001b[1;32m     67\u001b[0m     subfield\u001b[38;5;241m.\u001b[39mflatten_name(\u001b[38;5;28mself\u001b[39m\u001b[38;5;241m.\u001b[39mprefix)\n",
      "File \u001b[0;32m~/repos/gitea/u0118974/mdschema_manager/tutorial/../mango_mdschema/schema.py:64\u001b[0m, in \u001b[0;36m<dictcomp>\u001b[0;34m(.0)\u001b[0m\n\u001b[1;32m     61\u001b[0m \u001b[38;5;28mself\u001b[39m\u001b[38;5;241m.\u001b[39mprefix \u001b[38;5;241m=\u001b[39m \u001b[38;5;124mf\u001b[39m\u001b[38;5;124m\"\u001b[39m\u001b[38;5;132;01m{\u001b[39;00mprefix\u001b[38;5;132;01m}\u001b[39;00m\u001b[38;5;124m.\u001b[39m\u001b[38;5;132;01m{\u001b[39;00m\u001b[38;5;28mself\u001b[39m\u001b[38;5;241m.\u001b[39mname\u001b[38;5;132;01m}\u001b[39;00m\u001b[38;5;124m\"\u001b[39m\n\u001b[1;32m     62\u001b[0m \u001b[38;5;28mself\u001b[39m\u001b[38;5;241m.\u001b[39mtitle \u001b[38;5;241m=\u001b[39m schema[\u001b[38;5;124m\"\u001b[39m\u001b[38;5;124mtitle\u001b[39m\u001b[38;5;124m\"\u001b[39m] \u001b[38;5;28;01mif\u001b[39;00m schema[\u001b[38;5;124m\"\u001b[39m\u001b[38;5;124mtitle\u001b[39m\u001b[38;5;124m\"\u001b[39m] \u001b[38;5;28;01melse\u001b[39;00m \u001b[38;5;28mself\u001b[39m\u001b[38;5;241m.\u001b[39mname\n\u001b[1;32m     63\u001b[0m \u001b[38;5;28mself\u001b[39m\u001b[38;5;241m.\u001b[39mfields \u001b[38;5;241m=\u001b[39m {\n\u001b[0;32m---> 64\u001b[0m     k: \u001b[43mField\u001b[49m\u001b[38;5;241;43m.\u001b[39;49m\u001b[43mchoose_class\u001b[49m\u001b[43m(\u001b[49m\u001b[43mk\u001b[49m\u001b[43m,\u001b[49m\u001b[43m \u001b[49m\u001b[43mv\u001b[49m\u001b[43m)\u001b[49m \u001b[38;5;28;01mfor\u001b[39;00m k, v \u001b[38;5;129;01min\u001b[39;00m schema[\u001b[38;5;124m\"\u001b[39m\u001b[38;5;124mproperties\u001b[39m\u001b[38;5;124m\"\u001b[39m]\u001b[38;5;241m.\u001b[39mitems()\n\u001b[1;32m     65\u001b[0m }\n\u001b[1;32m     66\u001b[0m \u001b[38;5;28;01mfor\u001b[39;00m subfield \u001b[38;5;129;01min\u001b[39;00m \u001b[38;5;28mself\u001b[39m\u001b[38;5;241m.\u001b[39mfields\u001b[38;5;241m.\u001b[39mvalues():\n\u001b[1;32m     67\u001b[0m     subfield\u001b[38;5;241m.\u001b[39mflatten_name(\u001b[38;5;28mself\u001b[39m\u001b[38;5;241m.\u001b[39mprefix)\n",
      "File \u001b[0;32m~/repos/gitea/u0118974/mdschema_manager/tutorial/../mango_mdschema/fields.py:94\u001b[0m, in \u001b[0;36mField.choose_class\u001b[0;34m(name, content)\u001b[0m\n\u001b[1;32m     92\u001b[0m     \u001b[38;5;28;01mreturn\u001b[39;00m SimpleField(name, content)\n\u001b[1;32m     93\u001b[0m \u001b[38;5;28;01melse\u001b[39;00m:\n\u001b[0;32m---> 94\u001b[0m     \u001b[38;5;28;01mraise\u001b[39;00m \u001b[38;5;167;01mValueError\u001b[39;00m(\u001b[38;5;124mf\u001b[39m\u001b[38;5;124m\"\u001b[39m\u001b[38;5;124mThe type of the \u001b[39m\u001b[38;5;124m'\u001b[39m\u001b[38;5;132;01m{\u001b[39;00mname\u001b[38;5;132;01m}\u001b[39;00m\u001b[38;5;124m'\u001b[39m\u001b[38;5;124m field is not valid.\u001b[39m\u001b[38;5;124m\"\u001b[39m)\n",
      "\u001b[0;31mValueError\u001b[0m: The type of the 'title' field is not valid."
     ]
    }
   ],
   "source": [
    "#| error: true\n",
    "with open('bad-schema.json', 'r') as f:\n",
    "    bad_schema = json.load(f)\n",
    "    print(bad_schema['properties'])\n",
    "Schema('bad-schema.json')"
   ]
  },
  {
   "cell_type": "markdown",
   "metadata": {},
   "source": [
    "If you are not entirely familiar with your schema, you can check its contents by printing it or listing its `required_fields` attribute. This attribute is a dictionary of with the names required fields as keys and their default value, if available, as value. This is particularly important because you will only get errors if a required field _without default_ is not provided or the value provided for it is wrong. For required fields with defaults and non-required fields, wrong or missing values will simply be ignored. You will get warnings if you set `verbose` to `True`, though."
   ]
  },
  {
   "cell_type": "code",
   "execution_count": null,
   "metadata": {},
   "outputs": [],
   "source": [
    "print(my_schema)"
   ]
  },
  {
   "cell_type": "code",
   "execution_count": null,
   "metadata": {},
   "outputs": [
    {
     "data": {
      "text/plain": [
       "{'title': None, 'publishing_date': None, 'publisher': 'Tor', 'author': None}"
      ]
     },
     "execution_count": 9,
     "metadata": {},
     "output_type": "execute_result"
    }
   ],
   "source": [
    "my_schema.required_fields # note: 'author' is required because it contains required fields"
   ]
  },
  {
   "cell_type": "markdown",
   "metadata": {},
   "source": [
    "A schema also has a method to check the requirements of a specific field, namely whether they are required and have a default, whether they are repeatable, and any other characteristic used in validation."
   ]
  },
  {
   "cell_type": "code",
   "execution_count": null,
   "metadata": {},
   "outputs": [
    {
     "name": "stdout",
     "output_type": "stream",
     "text": [
      "\u001b[1mType\u001b[0m: text.\n",
      "\u001b[1mRequired\u001b[0m: True. \u001b[1mDefault\u001b[0m: None.\n",
      "\u001b[1mRepeatable\u001b[0m: False.\n"
     ]
    }
   ],
   "source": [
    "my_schema.check_requirements('title')"
   ]
  },
  {
   "cell_type": "code",
   "execution_count": null,
   "metadata": {},
   "outputs": [
    {
     "name": "stdout",
     "output_type": "stream",
     "text": [
      "\u001b[1mType\u001b[0m: select.\n",
      "\u001b[1mRequired\u001b[0m: False.\n",
      "\u001b[1mRepeatable\u001b[0m: False.\n",
      "Choose at least one of the following values:\n",
      "- red\n",
      "- blue\n",
      "- green\n",
      "- yellow\n"
     ]
    }
   ],
   "source": [
    "my_schema.check_requirements('cover_colors')"
   ]
  },
  {
   "cell_type": "markdown",
   "metadata": {},
   "source": [
    "When checking the requirements of a composite field, it also lists the requirements of its subfields."
   ]
  },
  {
   "cell_type": "code",
   "execution_count": null,
   "metadata": {},
   "outputs": [
    {
     "name": "stdout",
     "output_type": "stream",
     "text": [
      "\u001b[1mType\u001b[0m: object.\n",
      "\u001b[1mRequired\u001b[0m: True. (2 of its 3 fields are required.)\n",
      "\u001b[1mRepeatable\u001b[0m: True.\n",
      "\n",
      "Composed of the following fields:\n",
      "\u001b[4mname\u001b[0m\n",
      "\u001b[1mType\u001b[0m: text.\n",
      "\u001b[1mRequired\u001b[0m: True. \u001b[1mDefault\u001b[0m: None.\n",
      "\u001b[1mRepeatable\u001b[0m: False.\n",
      "\n",
      "\u001b[4mage\u001b[0m\n",
      "\u001b[1mType\u001b[0m: integer.\n",
      "\u001b[1mRequired\u001b[0m: False.\n",
      "\u001b[1mRepeatable\u001b[0m: False.\n",
      "integer between 12 and 99.\n",
      "\n",
      "\u001b[4memail\u001b[0m\n",
      "\u001b[1mType\u001b[0m: email.\n",
      "\u001b[1mRequired\u001b[0m: True. \u001b[1mDefault\u001b[0m: None.\n",
      "\u001b[1mRepeatable\u001b[0m: True.\n",
      "matching the following regex: \u001b[91m@kuleuven.be$\u001b[0m.\n"
     ]
    }
   ],
   "source": [
    "my_schema.check_requirements('author')"
   ]
  },
  {
   "cell_type": "markdown",
   "metadata": {},
   "source": [
    "Composite fields also have `required_fields` attributes and, like schemas, a `fields` attribute listing all the fields."
   ]
  },
  {
   "cell_type": "code",
   "execution_count": null,
   "metadata": {},
   "outputs": [
    {
     "data": {
      "text/plain": [
       "{'name': None, 'email': None}"
      ]
     },
     "execution_count": 13,
     "metadata": {},
     "output_type": "execute_result"
    }
   ],
   "source": [
    "my_schema.fields['author'].required_fields"
   ]
  },
  {
   "cell_type": "markdown",
   "metadata": {},
   "source": [
    "## Metadata format\n",
    "The `metadata` argument of `check_metadata()` and `Schema.apply()` (which calls `check_metadata()`) must be a dictionary in which the keys represent the names/IDs of the fields _without namespacing_ and the values, the value of the AVU to add.\n",
    "\n",
    "If the field is a checkbox for which multiple values have been selected _or_ a repeatable field with multiple values, then the value in the dictionary should be a list of such values. For example, the code below includes metadata for a checkbox. As you can see, this generates multiple AVUs with the same name and different values."
   ]
  },
  {
   "cell_type": "code",
   "execution_count": null,
   "metadata": {},
   "outputs": [
    {
     "data": {
      "text/plain": [
       "[<iRODSMeta None mgs.book.title A book not written yet None>,\n",
       " <iRODSMeta None mgs.book.author.name Fulano De Tal 1>,\n",
       " <iRODSMeta None mgs.book.author.email fulano.detal@kuleuven.be 1>,\n",
       " <iRODSMeta None mgs.book.ebook Available None>,\n",
       " <iRODSMeta None mgs.book.publishing_date 2015-02-01 None>,\n",
       " <iRODSMeta None mgs.book.cover_colors red None>,\n",
       " <iRODSMeta None mgs.book.cover_colors blue None>,\n",
       " <iRODSMeta None mgs.book.publisher Tor None>]"
      ]
     },
     "execution_count": 14,
     "metadata": {},
     "output_type": "execute_result"
    }
   ],
   "source": [
    "my_metadata.update({'cover_colors' : ['red', 'blue']})\n",
    "check_metadata(my_schema, my_metadata)"
   ]
  },
  {
   "cell_type": "markdown",
   "metadata": {},
   "source": [
    "For composite fields, the value should be a dictionary with the same format: keys are field names without namespacing and values, the right value. In this case, we are providing the following values for 'author', which is a composite field:\n",
    "\n",
    "```python\n",
    "{ 'name' : 'Fulano De Tal', 'email' : 'fulano.detal@kuleuven.be' }\n",
    "```\n",
    "\n",
    "This results in two AVUs with `mgs.book.author.name` and `mgs.book.author.email` as name, respectively, the corresponding values, and `0` as unit.\n",
    "The goal of the unit is to keep AVUs within the same composite field together, particularly when the composite field is repeatable. For example, we could submit two authors by providing a list with two dictionaries.\n",
    "As a result, we get two AVUs with `mgs.book.author.name` and two with `mgs.book.author.email`, and the unit indicates which email goes with each name."
   ]
  },
  {
   "cell_type": "code",
   "execution_count": null,
   "metadata": {},
   "outputs": [
    {
     "data": {
      "text/plain": [
       "{'name': 'Fulano De Tal', 'email': 'fulano.detal@kuleuven.be'}"
      ]
     },
     "execution_count": 15,
     "metadata": {},
     "output_type": "execute_result"
    }
   ],
   "source": [
    "my_metadata['author']"
   ]
  },
  {
   "cell_type": "code",
   "execution_count": null,
   "metadata": {},
   "outputs": [
    {
     "data": {
      "text/plain": [
       "[<iRODSMeta None mgs.book.author.name Fulano De Tal 1>,\n",
       " <iRODSMeta None mgs.book.author.email fulano.detal@kuleuven.be 1>,\n",
       " <iRODSMeta None mgs.book.author.name Jane Doe 2>,\n",
       " <iRODSMeta None mgs.book.author.email jane_doe@kuleuven.be 2>]"
      ]
     },
     "execution_count": 16,
     "metadata": {},
     "output_type": "execute_result"
    }
   ],
   "source": [
    "my_metadata['author'] = [\n",
    "    {'name': 'Fulano De Tal', 'email': 'fulano.detal@kuleuven.be'},\n",
    "    {'name': 'Jane Doe', 'email': 'jane_doe@kuleuven.be'}\n",
    "]\n",
    "checked_metadata = check_metadata(my_schema, my_metadata)\n",
    "[x for x in checked_metadata if x.name.startswith('mgs.book.author')]"
   ]
  },
  {
   "cell_type": "markdown",
   "metadata": {},
   "source": [
    "Actually, the email of the author is also a repeatable field, so we could get more instances of `mgs.book.author.email`, always with the unit indicating who it belongs to."
   ]
  },
  {
   "cell_type": "code",
   "execution_count": null,
   "metadata": {},
   "outputs": [
    {
     "data": {
      "text/plain": [
       "[<iRODSMeta None mgs.book.author.name Fulano De Tal 1>,\n",
       " <iRODSMeta None mgs.book.author.email fulano.detal@kuleuven.be 1>,\n",
       " <iRODSMeta None mgs.book.author.name Jane Doe 2>,\n",
       " <iRODSMeta None mgs.book.author.email jane_doe@kuleuven.be 2>,\n",
       " <iRODSMeta None mgs.book.author.email sweetdoe@kuleuven.be 2>]"
      ]
     },
     "execution_count": 17,
     "metadata": {},
     "output_type": "execute_result"
    }
   ],
   "source": [
    "my_metadata['author'][1]['email'] = ['jane_doe@kuleuven.be', 'sweetdoe@kuleuven.be']\n",
    "checked_metadata = check_metadata(my_schema, my_metadata)\n",
    "[x for x in checked_metadata if x.name.startswith('mgs.book.author')]"
   ]
  },
  {
   "cell_type": "markdown",
   "metadata": {},
   "source": [
    "## Metadata validation\n",
    "\n",
    "There are two levels of validation for metadata: presence and appropriateness. They are applied both at the level of the schema and on each composite field.\n",
    "\n",
    "- If a required field is missing, and there is no default value, it will throw an error."
   ]
  },
  {
   "cell_type": "code",
   "execution_count": null,
   "metadata": {},
   "outputs": [
    {
     "ename": "KeyError",
     "evalue": "'The following required fields are missing and there is no default: mgs.book.publishing_date, mgs.book.author.'",
     "output_type": "error",
     "traceback": [
      "\u001b[0;31m---------------------------------------------------------------------------\u001b[0m",
      "\u001b[0;31mKeyError\u001b[0m                                  Traceback (most recent call last)",
      "Cell \u001b[0;32mIn[18], line 2\u001b[0m\n\u001b[1;32m      1\u001b[0m \u001b[38;5;66;03m#| error: true\u001b[39;00m\n\u001b[0;32m----> 2\u001b[0m \u001b[43mcheck_metadata\u001b[49m\u001b[43m(\u001b[49m\u001b[43mmy_schema\u001b[49m\u001b[43m,\u001b[49m\u001b[43m \u001b[49m\u001b[43m{\u001b[49m\u001b[38;5;124;43m'\u001b[39;49m\u001b[38;5;124;43mtitle\u001b[39;49m\u001b[38;5;124;43m'\u001b[39;49m\u001b[43m \u001b[49m\u001b[43m:\u001b[49m\u001b[43m \u001b[49m\u001b[38;5;124;43m'\u001b[39;49m\u001b[38;5;124;43mI only have a title\u001b[39;49m\u001b[38;5;124;43m'\u001b[39;49m\u001b[43m}\u001b[49m\u001b[43m)\u001b[49m\n",
      "File \u001b[0;32m~/repos/gitea/u0118974/mdschema_manager/tutorial/../mango_mdschema/helpers.py:32\u001b[0m, in \u001b[0;36mcheck_metadata\u001b[0;34m(schema, metadata, verbose, index)\u001b[0m\n\u001b[1;32m     30\u001b[0m \u001b[38;5;66;03m## raise error if any required field is not present and there is no default\u001b[39;00m\n\u001b[1;32m     31\u001b[0m \u001b[38;5;28;01mif\u001b[39;00m \u001b[38;5;28mlen\u001b[39m(missing_required) \u001b[38;5;241m>\u001b[39m \u001b[38;5;241m0\u001b[39m:\n\u001b[0;32m---> 32\u001b[0m     \u001b[38;5;28;01mraise\u001b[39;00m \u001b[38;5;167;01mKeyError\u001b[39;00m(\n\u001b[1;32m     33\u001b[0m         \u001b[38;5;124mf\u001b[39m\u001b[38;5;124m\"\u001b[39m\u001b[38;5;124mThe following required fields are missing and there is no default: \u001b[39m\u001b[38;5;132;01m{\u001b[39;00m\u001b[38;5;124m'\u001b[39m\u001b[38;5;124m, \u001b[39m\u001b[38;5;124m'\u001b[39m\u001b[38;5;241m.\u001b[39mjoin(missing_required)\u001b[38;5;132;01m}\u001b[39;00m\u001b[38;5;124m.\u001b[39m\u001b[38;5;124m\"\u001b[39m\n\u001b[1;32m     34\u001b[0m     )\n\u001b[1;32m     36\u001b[0m go_to_default \u001b[38;5;241m=\u001b[39m [\n\u001b[1;32m     37\u001b[0m     field_name\n\u001b[1;32m     38\u001b[0m     \u001b[38;5;28;01mfor\u001b[39;00m field_name, default \u001b[38;5;129;01min\u001b[39;00m schema\u001b[38;5;241m.\u001b[39mrequired_fields\u001b[38;5;241m.\u001b[39mitems()\n\u001b[1;32m     39\u001b[0m     \u001b[38;5;28;01mif\u001b[39;00m \u001b[38;5;129;01mnot\u001b[39;00m field_name \u001b[38;5;129;01min\u001b[39;00m metadata \u001b[38;5;129;01mand\u001b[39;00m default \u001b[38;5;129;01mis\u001b[39;00m \u001b[38;5;129;01mnot\u001b[39;00m \u001b[38;5;28;01mNone\u001b[39;00m\n\u001b[1;32m     40\u001b[0m ]\n\u001b[1;32m     41\u001b[0m to_use \u001b[38;5;241m=\u001b[39m {k: v \u001b[38;5;28;01mfor\u001b[39;00m k, v \u001b[38;5;129;01min\u001b[39;00m metadata\u001b[38;5;241m.\u001b[39mitems() \u001b[38;5;28;01mif\u001b[39;00m k \u001b[38;5;129;01min\u001b[39;00m schema\u001b[38;5;241m.\u001b[39mfields}\n",
      "\u001b[0;31mKeyError\u001b[0m: 'The following required fields are missing and there is no default: mgs.book.publishing_date, mgs.book.author.'"
     ]
    }
   ],
   "source": [
    "#| error: true\n",
    "check_metadata(my_schema, {'title' : 'I only have a title'})"
   ]
  },
  {
   "cell_type": "markdown",
   "metadata": {},
   "source": [
    "- If a required field is missing and there is a default value, you will only get a warning if `verbose` is `True`; the default value is then used.\n",
    "- If a non-required field is missing, you will only get a warning if `verbose` is `True`."
   ]
  },
  {
   "cell_type": "code",
   "execution_count": null,
   "metadata": {},
   "outputs": [
    {
     "name": "stderr",
     "output_type": "stream",
     "text": [
      "WARNING:root:The following required fields are missing and the default value will be used: mgs.book.publisher (Tor)\n",
      "WARNING:root:The following non required fields are missing: mgs.book.author.age.\n",
      "WARNING:root:The following non required fields are missing: mgs.book.author.age.\n"
     ]
    },
    {
     "data": {
      "text/plain": [
       "[<iRODSMeta None mgs.book.title A book not written yet None>,\n",
       " <iRODSMeta None mgs.book.author.name Fulano De Tal 1>,\n",
       " <iRODSMeta None mgs.book.author.email fulano.detal@kuleuven.be 1>,\n",
       " <iRODSMeta None mgs.book.author.name Jane Doe 2>,\n",
       " <iRODSMeta None mgs.book.author.email jane_doe@kuleuven.be 2>,\n",
       " <iRODSMeta None mgs.book.author.email sweetdoe@kuleuven.be 2>,\n",
       " <iRODSMeta None mgs.book.ebook Available None>,\n",
       " <iRODSMeta None mgs.book.publishing_date 2015-02-01 None>,\n",
       " <iRODSMeta None mgs.book.cover_colors red None>,\n",
       " <iRODSMeta None mgs.book.cover_colors blue None>,\n",
       " <iRODSMeta None mgs.book.publisher Tor None>]"
      ]
     },
     "execution_count": 19,
     "metadata": {},
     "output_type": "execute_result"
    }
   ],
   "source": [
    "check_metadata(my_schema, my_metadata, verbose = True)"
   ]
  },
  {
   "cell_type": "markdown",
   "metadata": {},
   "source": [
    "- If a field is provided that is not included in a schema, it will be ignored, and you will only get a warning if `verbose` is `True`."
   ]
  },
  {
   "cell_type": "code",
   "execution_count": 9,
   "metadata": {},
   "outputs": [
    {
     "name": "stderr",
     "output_type": "stream",
     "text": [
      "WARNING:root:The following required fields are missing and the default value will be used: mgs.book.publisher (Tor)\n",
      "WARNING:root:The following non required fields are missing: mgs.book.cover_colors, mgs.book.ebook, mgs.book.market_price.\n",
      "WARNING:root:The following fields do not belong to the schema and will be ignored: publishing_house.\n",
      "WARNING:root:The following non required fields are missing: mgs.book.author.age.\n"
     ]
    },
    {
     "data": {
      "text/plain": [
       "[<iRODSMeta None mgs.book.title I only have a title None>,\n",
       " <iRODSMeta None mgs.book.publishing_date 2023-04-28 None>,\n",
       " <iRODSMeta None mgs.book.author.name Name Surname 1>,\n",
       " <iRODSMeta None mgs.book.author.email rightemail@kuleuven.be 1>,\n",
       " <iRODSMeta None mgs.book.publisher Tor None>]"
      ]
     },
     "execution_count": 9,
     "metadata": {},
     "output_type": "execute_result"
    }
   ],
   "source": [
    "mini_md = {'title' : 'I only have a title', 'publishing_date' : '2023-04-28',\n",
    "           'author' : {'name' : 'Name Surname', 'email' : 'rightemail@kuleuven.be'},\n",
    "           'publishing_house' : 'Oxford'}\n",
    "check_metadata(my_schema, mini_md, verbose = True)"
   ]
  },
  {
   "cell_type": "code",
   "execution_count": 10,
   "metadata": {},
   "outputs": [],
   "source": [
    "del mini_md['publishing_house']"
   ]
  },
  {
   "cell_type": "markdown",
   "metadata": {},
   "source": [
    "Once the presence of fields has been checked, we move on to appropriateness: are the values ok based on the requirements of the different fields?\n",
    "The `validators` package is used to validate the range of numbers as well as email and urls.\n",
    "\n",
    "On this level, there is no effect of `verbose`, because if you are providing a value you will most certainly want to know that it has failed:\n",
    "\n",
    "- when required fields _with no default value_ are wrong an error is thrown.\n",
    "- when required fields with default values are wrong, the default is used and a warning is printed.\n",
    "- when non required fields are wrong, they are ignored and a warning is printed."
   ]
  },
  {
   "cell_type": "markdown",
   "metadata": {},
   "source": [
    "### Numbers\n",
    "Integer and float simple fields must be of type `int` or `float` respectively or something that can be converted to such format.\n",
    "`validators.between()` is used to make sure that the number is within the provided range."
   ]
  },
  {
   "cell_type": "code",
   "execution_count": null,
   "metadata": {},
   "outputs": [
    {
     "data": {
      "text/plain": [
       "[<iRODSMeta None mgs.book.author.name Fulano De Tal 1>,\n",
       " <iRODSMeta None mgs.book.author.email fulano.detal@kuleuven.be 1>,\n",
       " <iRODSMeta None mgs.book.author.age 30 1>]"
      ]
     },
     "execution_count": 22,
     "metadata": {},
     "output_type": "execute_result"
    }
   ],
   "source": [
    "my_metadata['author'][0]['age'] = 30\n",
    "checked_metadata = check_metadata(my_schema, my_metadata)\n",
    "[x for x in checked_metadata if x.name.startswith('mgs.book.author') and x.units == '1']"
   ]
  },
  {
   "cell_type": "code",
   "execution_count": null,
   "metadata": {},
   "outputs": [
    {
     "data": {
      "text/plain": [
       "[<iRODSMeta None mgs.book.author.name Fulano De Tal 1>,\n",
       " <iRODSMeta None mgs.book.author.email fulano.detal@kuleuven.be 1>,\n",
       " <iRODSMeta None mgs.book.author.age 30 1>]"
      ]
     },
     "execution_count": 23,
     "metadata": {},
     "output_type": "execute_result"
    }
   ],
   "source": [
    "# provided as a string that can be converted with `int()`\n",
    "my_metadata['author'][0]['age'] = '30'\n",
    "checked_metadata = check_metadata(my_schema, my_metadata)\n",
    "[x for x in checked_metadata if x.name.startswith('mgs.book.author') and x.units == '1']"
   ]
  },
  {
   "cell_type": "code",
   "execution_count": null,
   "metadata": {},
   "outputs": [
    {
     "data": {
      "text/plain": [
       "[<iRODSMeta None mgs.book.author.name Fulano De Tal 1>,\n",
       " <iRODSMeta None mgs.book.author.email fulano.detal@kuleuven.be 1>,\n",
       " <iRODSMeta None mgs.book.author.age 30 1>]"
      ]
     },
     "execution_count": 24,
     "metadata": {},
     "output_type": "execute_result"
    }
   ],
   "source": [
    "# provided as a float that can be converted with `int()`\n",
    "my_metadata['author'][0]['age'] = 30.5\n",
    "checked_metadata = check_metadata(my_schema, my_metadata)\n",
    "[x for x in checked_metadata if x.name.startswith('mgs.book.author') and x.units == '1']"
   ]
  },
  {
   "cell_type": "code",
   "execution_count": null,
   "metadata": {},
   "outputs": [
    {
     "name": "stderr",
     "output_type": "stream",
     "text": [
      "WARNING:root:The values provided for `mgs.book.author.age` are not valid and will be ignored.\n"
     ]
    },
    {
     "data": {
      "text/plain": [
       "[<iRODSMeta None mgs.book.author.name Fulano De Tal 1>,\n",
       " <iRODSMeta None mgs.book.author.email fulano.detal@kuleuven.be 1>]"
      ]
     },
     "execution_count": 25,
     "metadata": {},
     "output_type": "execute_result"
    }
   ],
   "source": [
    "#| error: true\n",
    "# wrong range: it should be between 12 and 99\n",
    "my_metadata['author'][0]['age'] = 103\n",
    "checked_metadata = check_metadata(my_schema, my_metadata)\n",
    "[x for x in checked_metadata if x.name.startswith('mgs.book.author') and x.units == '1']"
   ]
  },
  {
   "cell_type": "code",
   "execution_count": null,
   "metadata": {},
   "outputs": [
    {
     "name": "stderr",
     "output_type": "stream",
     "text": [
      "WARNING:root:The values provided for `mgs.book.author.age` are not valid and will be ignored.\n"
     ]
    },
    {
     "data": {
      "text/plain": [
       "[<iRODSMeta None mgs.book.author.name Fulano De Tal 1>,\n",
       " <iRODSMeta None mgs.book.author.email fulano.detal@kuleuven.be 1>]"
      ]
     },
     "execution_count": 26,
     "metadata": {},
     "output_type": "execute_result"
    }
   ],
   "source": [
    "# wrong format\n",
    "my_metadata['author'][0]['age'] = 'thirty'\n",
    "checked_metadata = check_metadata(my_schema, my_metadata)\n",
    "[x for x in checked_metadata if x.name.startswith('mgs.book.author') and x.units == '1']"
   ]
  },
  {
   "cell_type": "markdown",
   "metadata": {},
   "source": [
    "Values are also checked if there are no minimum or maximum specified."
   ]
  },
  {
   "cell_type": "code",
   "execution_count": 12,
   "metadata": {},
   "outputs": [
    {
     "data": {
      "text/plain": [
       "[<iRODSMeta None mgs.book.market_price 9.99 None>]"
      ]
     },
     "execution_count": 12,
     "metadata": {},
     "output_type": "execute_result"
    }
   ],
   "source": [
    "mini_md['market_price'] = 9.99\n",
    "checked_metadata = check_metadata(my_schema, mini_md)\n",
    "[x for x in checked_metadata if x.name.endswith('price')]"
   ]
  },
  {
   "cell_type": "markdown",
   "metadata": {},
   "source": [
    "### Dates, times and datetimes\n",
    "Dates, times and datetimes can be provided as `datetime.date`, `datetime.time` or `datetime.datetime` objects or as strings that can be converted as such via their `fromisoformat()` or `fromtimestamp()` methods. The final value is a string in ISO Format."
   ]
  },
  {
   "cell_type": "code",
   "execution_count": null,
   "metadata": {},
   "outputs": [],
   "source": [
    "from datetime import date\n",
    "import time"
   ]
  },
  {
   "cell_type": "code",
   "execution_count": null,
   "metadata": {},
   "outputs": [
    {
     "data": {
      "text/plain": [
       "[<iRODSMeta None mgs.book.title I only have a title None>,\n",
       " <iRODSMeta None mgs.book.publishing_date 2023-06-01 None>,\n",
       " <iRODSMeta None mgs.book.author.name Name Surname 1>,\n",
       " <iRODSMeta None mgs.book.author.email rightemail@kuleuven.be 1>,\n",
       " <iRODSMeta None mgs.book.publisher Tor None>]"
      ]
     },
     "execution_count": 28,
     "metadata": {},
     "output_type": "execute_result"
    }
   ],
   "source": [
    "mini_md['publishing_date'] = date.today()\n",
    "check_metadata(my_schema, mini_md)"
   ]
  },
  {
   "cell_type": "code",
   "execution_count": null,
   "metadata": {},
   "outputs": [
    {
     "data": {
      "text/plain": [
       "[<iRODSMeta None mgs.book.title I only have a title None>,\n",
       " <iRODSMeta None mgs.book.publishing_date 2023-06-01 None>,\n",
       " <iRODSMeta None mgs.book.author.name Name Surname 1>,\n",
       " <iRODSMeta None mgs.book.author.email rightemail@kuleuven.be 1>,\n",
       " <iRODSMeta None mgs.book.publisher Tor None>]"
      ]
     },
     "execution_count": 29,
     "metadata": {},
     "output_type": "execute_result"
    }
   ],
   "source": [
    "mini_md['publishing_date'] = date.fromtimestamp(time.time())\n",
    "check_metadata(my_schema, mini_md)"
   ]
  },
  {
   "cell_type": "code",
   "execution_count": null,
   "metadata": {},
   "outputs": [
    {
     "ename": "ValueError",
     "evalue": "None of the values provided for `mgs.book.publishing_date` are valid.",
     "output_type": "error",
     "traceback": [
      "\u001b[0;31m---------------------------------------------------------------------------\u001b[0m",
      "\u001b[0;31mValueError\u001b[0m                                Traceback (most recent call last)",
      "Cell \u001b[0;32mIn[30], line 3\u001b[0m\n\u001b[1;32m      1\u001b[0m \u001b[38;5;66;03m#| error: true\u001b[39;00m\n\u001b[1;32m      2\u001b[0m mini_md[\u001b[38;5;124m'\u001b[39m\u001b[38;5;124mpublishing_date\u001b[39m\u001b[38;5;124m'\u001b[39m] \u001b[38;5;241m=\u001b[39m \u001b[38;5;124m'\u001b[39m\u001b[38;5;124m03/11/1990\u001b[39m\u001b[38;5;124m'\u001b[39m\n\u001b[0;32m----> 3\u001b[0m \u001b[43mcheck_metadata\u001b[49m\u001b[43m(\u001b[49m\u001b[43mmy_schema\u001b[49m\u001b[43m,\u001b[49m\u001b[43m \u001b[49m\u001b[43mmini_md\u001b[49m\u001b[43m)\u001b[49m\n",
      "File \u001b[0;32m~/repos/gitea/u0118974/mdschema_manager/tutorial/../mango_mdschema/helpers.py:73\u001b[0m, in \u001b[0;36mcheck_metadata\u001b[0;34m(schema, metadata, verbose, index)\u001b[0m\n\u001b[1;32m     68\u001b[0m         logging\u001b[38;5;241m.\u001b[39mwarning(\n\u001b[1;32m     69\u001b[0m             \u001b[38;5;124mf\u001b[39m\u001b[38;5;124m\"\u001b[39m\u001b[38;5;124mThe following fields do not belong to the schema and will be ignored: \u001b[39m\u001b[38;5;132;01m{\u001b[39;00mextras\u001b[38;5;132;01m}\u001b[39;00m\u001b[38;5;124m.\u001b[39m\u001b[38;5;124m\"\u001b[39m\n\u001b[1;32m     70\u001b[0m         )\n\u001b[1;32m     72\u001b[0m \u001b[38;5;28;01mfor\u001b[39;00m k, v \u001b[38;5;129;01min\u001b[39;00m to_use\u001b[38;5;241m.\u001b[39mitems():\n\u001b[0;32m---> 73\u001b[0m     to_use[k] \u001b[38;5;241m=\u001b[39m \u001b[43mschema\u001b[49m\u001b[38;5;241;43m.\u001b[39;49m\u001b[43mfields\u001b[49m\u001b[43m[\u001b[49m\u001b[43mk\u001b[49m\u001b[43m]\u001b[49m\u001b[38;5;241;43m.\u001b[39;49m\u001b[43mcreate_avu\u001b[49m\u001b[43m(\u001b[49m\u001b[43mv\u001b[49m\u001b[43m,\u001b[49m\u001b[43m \u001b[49m\u001b[43mindex\u001b[49m\u001b[43m,\u001b[49m\u001b[43m \u001b[49m\u001b[43mverbose\u001b[49m\u001b[43m)\u001b[49m\n\u001b[1;32m     74\u001b[0m \u001b[38;5;28;01mfor\u001b[39;00m k \u001b[38;5;129;01min\u001b[39;00m go_to_default:\n\u001b[1;32m     75\u001b[0m     to_use[k] \u001b[38;5;241m=\u001b[39m [\n\u001b[1;32m     76\u001b[0m         iRODSMeta(schema\u001b[38;5;241m.\u001b[39mfields[k]\u001b[38;5;241m.\u001b[39mflattened_name, schema\u001b[38;5;241m.\u001b[39mfields[k]\u001b[38;5;241m.\u001b[39mdefault, index)\n\u001b[1;32m     77\u001b[0m     ]\n",
      "File \u001b[0;32m~/repos/gitea/u0118974/mdschema_manager/tutorial/../mango_mdschema/fields.py:278\u001b[0m, in \u001b[0;36mSimpleField.create_avu\u001b[0;34m(self, value, unit, verbose)\u001b[0m\n\u001b[1;32m    273\u001b[0m \u001b[38;5;28;01melse\u001b[39;00m:\n\u001b[1;32m    274\u001b[0m     validated_value \u001b[38;5;241m=\u001b[39m \u001b[38;5;28mself\u001b[39m\u001b[38;5;241m.\u001b[39mvalidate(value)\n\u001b[1;32m    275\u001b[0m     \u001b[38;5;28;01mreturn\u001b[39;00m (\n\u001b[1;32m    276\u001b[0m         [iRODSMeta(\u001b[38;5;28mself\u001b[39m\u001b[38;5;241m.\u001b[39mflattened_name, validated_value, unit)]\n\u001b[1;32m    277\u001b[0m         \u001b[38;5;28;01mif\u001b[39;00m validated_value\n\u001b[0;32m--> 278\u001b[0m         \u001b[38;5;28;01melse\u001b[39;00m \u001b[38;5;28;43mself\u001b[39;49m\u001b[38;5;241;43m.\u001b[39;49m\u001b[43mdeal_with_invalid\u001b[49m\u001b[43m(\u001b[49m\u001b[43mvalue\u001b[49m\u001b[43m,\u001b[49m\u001b[43m \u001b[49m\u001b[43munit\u001b[49m\u001b[43m)\u001b[49m\n\u001b[1;32m    279\u001b[0m     )\n",
      "File \u001b[0;32m~/repos/gitea/u0118974/mdschema_manager/tutorial/../mango_mdschema/fields.py:292\u001b[0m, in \u001b[0;36mSimpleField.deal_with_invalid\u001b[0;34m(self, value, unit)\u001b[0m\n\u001b[1;32m    288\u001b[0m     logging\u001b[38;5;241m.\u001b[39mwarning(\n\u001b[1;32m    289\u001b[0m         \u001b[38;5;124mf\u001b[39m\u001b[38;5;124m\"\u001b[39m\u001b[38;5;124mThe values provided for `\u001b[39m\u001b[38;5;132;01m{\u001b[39;00m\u001b[38;5;28mself\u001b[39m\u001b[38;5;241m.\u001b[39mflattened_name\u001b[38;5;132;01m}\u001b[39;00m\u001b[38;5;124m` are not valid: the default will be used.\u001b[39m\u001b[38;5;124m\"\u001b[39m\n\u001b[1;32m    290\u001b[0m     )\n\u001b[1;32m    291\u001b[0m     \u001b[38;5;28;01mreturn\u001b[39;00m [iRODSMeta(\u001b[38;5;28mself\u001b[39m\u001b[38;5;241m.\u001b[39mflattened_name, \u001b[38;5;28mself\u001b[39m\u001b[38;5;241m.\u001b[39mdefault, unit)]\n\u001b[0;32m--> 292\u001b[0m \u001b[38;5;28;01mraise\u001b[39;00m \u001b[38;5;167;01mValueError\u001b[39;00m(\n\u001b[1;32m    293\u001b[0m     \u001b[38;5;124mf\u001b[39m\u001b[38;5;124m\"\u001b[39m\u001b[38;5;124mNone of the values provided for `\u001b[39m\u001b[38;5;132;01m{\u001b[39;00m\u001b[38;5;28mself\u001b[39m\u001b[38;5;241m.\u001b[39mflattened_name\u001b[38;5;132;01m}\u001b[39;00m\u001b[38;5;124m` are valid.\u001b[39m\u001b[38;5;124m\"\u001b[39m\n\u001b[1;32m    294\u001b[0m )\n",
      "\u001b[0;31mValueError\u001b[0m: None of the values provided for `mgs.book.publishing_date` are valid."
     ]
    }
   ],
   "source": [
    "#| error: true\n",
    "mini_md['publishing_date'] = '03/11/1990'\n",
    "check_metadata(my_schema, mini_md)"
   ]
  },
  {
   "cell_type": "markdown",
   "metadata": {},
   "source": [
    "### URLs and emails\n"
   ]
  },
  {
   "cell_type": "code",
   "execution_count": null,
   "metadata": {
    "scrolled": true
   },
   "outputs": [
    {
     "name": "stderr",
     "output_type": "stream",
     "text": [
      "WARNING:root:The following values provided for `mgs.book.author.email` are not valid and will be ignored: bademail@whatevs.\n"
     ]
    },
    {
     "data": {
      "text/plain": [
       "[<iRODSMeta None mgs.book.title A book not written yet None>,\n",
       " <iRODSMeta None mgs.book.author.name Fulano De Tal 1>,\n",
       " <iRODSMeta None mgs.book.author.email fulano.detal@kuleuven.be 1>,\n",
       " <iRODSMeta None mgs.book.author.age 30 1>,\n",
       " <iRODSMeta None mgs.book.author.name Jane Doe 2>,\n",
       " <iRODSMeta None mgs.book.author.email jane_doe@kuleuven.be 2>,\n",
       " <iRODSMeta None mgs.book.author.email sweetdoe@kuleuven.be 2>,\n",
       " <iRODSMeta None mgs.book.ebook Available None>,\n",
       " <iRODSMeta None mgs.book.publishing_date 2015-02-01 None>,\n",
       " <iRODSMeta None mgs.book.cover_colors red None>,\n",
       " <iRODSMeta None mgs.book.cover_colors blue None>,\n",
       " <iRODSMeta None mgs.book.publisher Tor None>]"
      ]
     },
     "execution_count": 31,
     "metadata": {},
     "output_type": "execute_result"
    }
   ],
   "source": [
    "my_metadata['author'][0]['age'] = 30\n",
    "my_metadata['author'][1]['email'].append('bademail@whatevs')\n",
    "check_metadata(my_schema, my_metadata)"
   ]
  },
  {
   "cell_type": "code",
   "execution_count": null,
   "metadata": {},
   "outputs": [
    {
     "data": {
      "text/plain": [
       "'bademail@whatevs'"
      ]
     },
     "execution_count": 32,
     "metadata": {},
     "output_type": "execute_result"
    }
   ],
   "source": [
    "my_metadata['author'][1]['email'].pop()"
   ]
  },
  {
   "cell_type": "markdown",
   "metadata": {},
   "source": [
    "In the example above, _one_ of the provided emails is wrong, and therefore it is just ignored.\n",
    "In the next section we see that if the value is missing or the only provided value is wrong, an error is thrown,\n",
    "because the field is required."
   ]
  },
  {
   "cell_type": "markdown",
   "metadata": {},
   "source": [
    "### Regular expressions\n",
    "\n",
    "URLs, emails and simple text can also have a `pattern` attribute providing a regular expression that checks its appropriateness. In the case of these emails, we have additional validation to make sure that the domain is \"kuleuven.be\":"
   ]
  },
  {
   "cell_type": "code",
   "execution_count": null,
   "metadata": {},
   "outputs": [
    {
     "name": "stdout",
     "output_type": "stream",
     "text": [
      "\u001b[1mType\u001b[0m: object.\n",
      "\u001b[1mRequired\u001b[0m: True. (2 of its 3 fields are required.)\n",
      "\u001b[1mRepeatable\u001b[0m: True.\n",
      "\n",
      "Composed of the following fields:\n",
      "\u001b[4mname\u001b[0m\n",
      "\u001b[1mType\u001b[0m: text.\n",
      "\u001b[1mRequired\u001b[0m: True. \u001b[1mDefault\u001b[0m: None.\n",
      "\u001b[1mRepeatable\u001b[0m: False.\n",
      "\n",
      "\u001b[4mage\u001b[0m\n",
      "\u001b[1mType\u001b[0m: integer.\n",
      "\u001b[1mRequired\u001b[0m: False.\n",
      "\u001b[1mRepeatable\u001b[0m: False.\n",
      "integer between 12 and 99.\n",
      "\n",
      "\u001b[4memail\u001b[0m\n",
      "\u001b[1mType\u001b[0m: email.\n",
      "\u001b[1mRequired\u001b[0m: True. \u001b[1mDefault\u001b[0m: None.\n",
      "\u001b[1mRepeatable\u001b[0m: True.\n",
      "matching the following regex: \u001b[91m@kuleuven.be$\u001b[0m.\n"
     ]
    }
   ],
   "source": [
    "my_schema.check_requirements('author')"
   ]
  },
  {
   "cell_type": "code",
   "execution_count": null,
   "metadata": {},
   "outputs": [
    {
     "name": "stderr",
     "output_type": "stream",
     "text": [
      "WARNING:root:The following values provided for `mgs.book.author.email` are not valid and will be ignored: wrong_domain@gmail.com.\n"
     ]
    },
    {
     "data": {
      "text/plain": [
       "[<iRODSMeta None mgs.book.title A book not written yet None>,\n",
       " <iRODSMeta None mgs.book.author.name Fulano De Tal 1>,\n",
       " <iRODSMeta None mgs.book.author.email fulano.detal@kuleuven.be 1>,\n",
       " <iRODSMeta None mgs.book.author.age 30 1>,\n",
       " <iRODSMeta None mgs.book.author.name Jane Doe 2>,\n",
       " <iRODSMeta None mgs.book.author.email jane_doe@kuleuven.be 2>,\n",
       " <iRODSMeta None mgs.book.author.email sweetdoe@kuleuven.be 2>,\n",
       " <iRODSMeta None mgs.book.ebook Available None>,\n",
       " <iRODSMeta None mgs.book.publishing_date 2015-02-01 None>,\n",
       " <iRODSMeta None mgs.book.cover_colors red None>,\n",
       " <iRODSMeta None mgs.book.cover_colors blue None>,\n",
       " <iRODSMeta None mgs.book.publisher Tor None>]"
      ]
     },
     "execution_count": 34,
     "metadata": {},
     "output_type": "execute_result"
    }
   ],
   "source": [
    "my_metadata['author'][0]['age'] = 30\n",
    "my_metadata['author'][1]['email'].append('wrong_domain@gmail.com')\n",
    "check_metadata(my_schema, my_metadata)"
   ]
  },
  {
   "cell_type": "code",
   "execution_count": null,
   "metadata": {},
   "outputs": [
    {
     "data": {
      "text/plain": [
       "'wrong_domain@gmail.com'"
      ]
     },
     "execution_count": 35,
     "metadata": {},
     "output_type": "execute_result"
    }
   ],
   "source": [
    "my_metadata['author'][1]['email'].pop()"
   ]
  },
  {
   "cell_type": "markdown",
   "metadata": {},
   "source": [
    "### Composite fields\n",
    "\n",
    "Within composite fields, the same rules apply as for schemas. First, presence is checked: required values without default throw an error when they are missing, while other cases of missing or extra fields throw warnings only when `verbose` is `True`.\n",
    "\n",
    "Moreover, composite fields are never required themselves based on the schema, but they are required if any of their fields are required.\n",
    "\n",
    "As shown above, bad values throw warnings in all cases."
   ]
  },
  {
   "cell_type": "code",
   "execution_count": null,
   "metadata": {},
   "outputs": [
    {
     "ename": "KeyError",
     "evalue": "'The following required fields are missing and there is no default: mgs.book.author.email.'",
     "output_type": "error",
     "traceback": [
      "\u001b[0;31m---------------------------------------------------------------------------\u001b[0m",
      "\u001b[0;31mKeyError\u001b[0m                                  Traceback (most recent call last)",
      "Cell \u001b[0;32mIn[36], line 3\u001b[0m\n\u001b[1;32m      1\u001b[0m \u001b[38;5;66;03m#| error: true\u001b[39;00m\n\u001b[1;32m      2\u001b[0m my_metadata[\u001b[38;5;124m'\u001b[39m\u001b[38;5;124mauthor\u001b[39m\u001b[38;5;124m'\u001b[39m]\u001b[38;5;241m.\u001b[39mappend({\u001b[38;5;124m'\u001b[39m\u001b[38;5;124mname\u001b[39m\u001b[38;5;124m'\u001b[39m : \u001b[38;5;124m'\u001b[39m\u001b[38;5;124metal\u001b[39m\u001b[38;5;124m'\u001b[39m})\n\u001b[0;32m----> 3\u001b[0m \u001b[43mcheck_metadata\u001b[49m\u001b[43m(\u001b[49m\u001b[43mmy_schema\u001b[49m\u001b[43m,\u001b[49m\u001b[43m \u001b[49m\u001b[43mmy_metadata\u001b[49m\u001b[43m)\u001b[49m\n",
      "File \u001b[0;32m~/repos/gitea/u0118974/mdschema_manager/tutorial/../mango_mdschema/helpers.py:73\u001b[0m, in \u001b[0;36mcheck_metadata\u001b[0;34m(schema, metadata, verbose, index)\u001b[0m\n\u001b[1;32m     68\u001b[0m         logging\u001b[38;5;241m.\u001b[39mwarning(\n\u001b[1;32m     69\u001b[0m             \u001b[38;5;124mf\u001b[39m\u001b[38;5;124m\"\u001b[39m\u001b[38;5;124mThe following fields do not belong to the schema and will be ignored: \u001b[39m\u001b[38;5;132;01m{\u001b[39;00mextras\u001b[38;5;132;01m}\u001b[39;00m\u001b[38;5;124m.\u001b[39m\u001b[38;5;124m\"\u001b[39m\n\u001b[1;32m     70\u001b[0m         )\n\u001b[1;32m     72\u001b[0m \u001b[38;5;28;01mfor\u001b[39;00m k, v \u001b[38;5;129;01min\u001b[39;00m to_use\u001b[38;5;241m.\u001b[39mitems():\n\u001b[0;32m---> 73\u001b[0m     to_use[k] \u001b[38;5;241m=\u001b[39m \u001b[43mschema\u001b[49m\u001b[38;5;241;43m.\u001b[39;49m\u001b[43mfields\u001b[49m\u001b[43m[\u001b[49m\u001b[43mk\u001b[49m\u001b[43m]\u001b[49m\u001b[38;5;241;43m.\u001b[39;49m\u001b[43mcreate_avu\u001b[49m\u001b[43m(\u001b[49m\u001b[43mv\u001b[49m\u001b[43m,\u001b[49m\u001b[43m \u001b[49m\u001b[43mindex\u001b[49m\u001b[43m,\u001b[49m\u001b[43m \u001b[49m\u001b[43mverbose\u001b[49m\u001b[43m)\u001b[49m\n\u001b[1;32m     74\u001b[0m \u001b[38;5;28;01mfor\u001b[39;00m k \u001b[38;5;129;01min\u001b[39;00m go_to_default:\n\u001b[1;32m     75\u001b[0m     to_use[k] \u001b[38;5;241m=\u001b[39m [\n\u001b[1;32m     76\u001b[0m         iRODSMeta(schema\u001b[38;5;241m.\u001b[39mfields[k]\u001b[38;5;241m.\u001b[39mflattened_name, schema\u001b[38;5;241m.\u001b[39mfields[k]\u001b[38;5;241m.\u001b[39mdefault, index)\n\u001b[1;32m     77\u001b[0m     ]\n",
      "File \u001b[0;32m~/repos/gitea/u0118974/mdschema_manager/tutorial/../mango_mdschema/fields.py:378\u001b[0m, in \u001b[0;36mCompositeField.create_avu\u001b[0;34m(self, value, unit, verbose)\u001b[0m\n\u001b[1;32m    374\u001b[0m         \u001b[38;5;28;01mraise\u001b[39;00m \u001b[38;5;167;01mTypeError\u001b[39;00m(\n\u001b[1;32m    375\u001b[0m             \u001b[38;5;124mf\u001b[39m\u001b[38;5;124m\"\u001b[39m\u001b[38;5;124m`\u001b[39m\u001b[38;5;132;01m{\u001b[39;00m\u001b[38;5;28mself\u001b[39m\u001b[38;5;241m.\u001b[39mflattened_name\u001b[38;5;132;01m}\u001b[39;00m\u001b[38;5;124m` is not repeatable, a dictionary should be provided instead.\u001b[39m\u001b[38;5;124m\"\u001b[39m\n\u001b[1;32m    376\u001b[0m         )\n\u001b[1;32m    377\u001b[0m     \u001b[38;5;28;01melse\u001b[39;00m:\n\u001b[0;32m--> 378\u001b[0m         avus \u001b[38;5;241m=\u001b[39m [\n\u001b[1;32m    379\u001b[0m             check_metadata(\n\u001b[1;32m    380\u001b[0m                 \u001b[38;5;28mself\u001b[39m, x, verbose, CompositeField\u001b[38;5;241m.\u001b[39mget_unit(i \u001b[38;5;241m+\u001b[39m \u001b[38;5;241m1\u001b[39m, unit)\n\u001b[1;32m    381\u001b[0m             )\n\u001b[1;32m    382\u001b[0m             \u001b[38;5;28;01mfor\u001b[39;00m i, x \u001b[38;5;129;01min\u001b[39;00m \u001b[38;5;28menumerate\u001b[39m(value)\n\u001b[1;32m    383\u001b[0m         ]\n\u001b[1;32m    384\u001b[0m         \u001b[38;5;28;01mreturn\u001b[39;00m [avu \u001b[38;5;28;01mfor\u001b[39;00m avu_list \u001b[38;5;129;01min\u001b[39;00m avus \u001b[38;5;28;01mfor\u001b[39;00m avu \u001b[38;5;129;01min\u001b[39;00m avu_list]\n\u001b[1;32m    385\u001b[0m \u001b[38;5;28;01melif\u001b[39;00m \u001b[38;5;28mtype\u001b[39m(value) \u001b[38;5;241m!=\u001b[39m \u001b[38;5;28mdict\u001b[39m:\n",
      "File \u001b[0;32m~/repos/gitea/u0118974/mdschema_manager/tutorial/../mango_mdschema/fields.py:379\u001b[0m, in \u001b[0;36m<listcomp>\u001b[0;34m(.0)\u001b[0m\n\u001b[1;32m    374\u001b[0m         \u001b[38;5;28;01mraise\u001b[39;00m \u001b[38;5;167;01mTypeError\u001b[39;00m(\n\u001b[1;32m    375\u001b[0m             \u001b[38;5;124mf\u001b[39m\u001b[38;5;124m\"\u001b[39m\u001b[38;5;124m`\u001b[39m\u001b[38;5;132;01m{\u001b[39;00m\u001b[38;5;28mself\u001b[39m\u001b[38;5;241m.\u001b[39mflattened_name\u001b[38;5;132;01m}\u001b[39;00m\u001b[38;5;124m` is not repeatable, a dictionary should be provided instead.\u001b[39m\u001b[38;5;124m\"\u001b[39m\n\u001b[1;32m    376\u001b[0m         )\n\u001b[1;32m    377\u001b[0m     \u001b[38;5;28;01melse\u001b[39;00m:\n\u001b[1;32m    378\u001b[0m         avus \u001b[38;5;241m=\u001b[39m [\n\u001b[0;32m--> 379\u001b[0m             \u001b[43mcheck_metadata\u001b[49m\u001b[43m(\u001b[49m\n\u001b[1;32m    380\u001b[0m \u001b[43m                \u001b[49m\u001b[38;5;28;43mself\u001b[39;49m\u001b[43m,\u001b[49m\u001b[43m \u001b[49m\u001b[43mx\u001b[49m\u001b[43m,\u001b[49m\u001b[43m \u001b[49m\u001b[43mverbose\u001b[49m\u001b[43m,\u001b[49m\u001b[43m \u001b[49m\u001b[43mCompositeField\u001b[49m\u001b[38;5;241;43m.\u001b[39;49m\u001b[43mget_unit\u001b[49m\u001b[43m(\u001b[49m\u001b[43mi\u001b[49m\u001b[43m \u001b[49m\u001b[38;5;241;43m+\u001b[39;49m\u001b[43m \u001b[49m\u001b[38;5;241;43m1\u001b[39;49m\u001b[43m,\u001b[49m\u001b[43m \u001b[49m\u001b[43munit\u001b[49m\u001b[43m)\u001b[49m\n\u001b[1;32m    381\u001b[0m \u001b[43m            \u001b[49m\u001b[43m)\u001b[49m\n\u001b[1;32m    382\u001b[0m             \u001b[38;5;28;01mfor\u001b[39;00m i, x \u001b[38;5;129;01min\u001b[39;00m \u001b[38;5;28menumerate\u001b[39m(value)\n\u001b[1;32m    383\u001b[0m         ]\n\u001b[1;32m    384\u001b[0m         \u001b[38;5;28;01mreturn\u001b[39;00m [avu \u001b[38;5;28;01mfor\u001b[39;00m avu_list \u001b[38;5;129;01min\u001b[39;00m avus \u001b[38;5;28;01mfor\u001b[39;00m avu \u001b[38;5;129;01min\u001b[39;00m avu_list]\n\u001b[1;32m    385\u001b[0m \u001b[38;5;28;01melif\u001b[39;00m \u001b[38;5;28mtype\u001b[39m(value) \u001b[38;5;241m!=\u001b[39m \u001b[38;5;28mdict\u001b[39m:\n",
      "File \u001b[0;32m~/repos/gitea/u0118974/mdschema_manager/tutorial/../mango_mdschema/helpers.py:32\u001b[0m, in \u001b[0;36mcheck_metadata\u001b[0;34m(schema, metadata, verbose, index)\u001b[0m\n\u001b[1;32m     30\u001b[0m \u001b[38;5;66;03m## raise error if any required field is not present and there is no default\u001b[39;00m\n\u001b[1;32m     31\u001b[0m \u001b[38;5;28;01mif\u001b[39;00m \u001b[38;5;28mlen\u001b[39m(missing_required) \u001b[38;5;241m>\u001b[39m \u001b[38;5;241m0\u001b[39m:\n\u001b[0;32m---> 32\u001b[0m     \u001b[38;5;28;01mraise\u001b[39;00m \u001b[38;5;167;01mKeyError\u001b[39;00m(\n\u001b[1;32m     33\u001b[0m         \u001b[38;5;124mf\u001b[39m\u001b[38;5;124m\"\u001b[39m\u001b[38;5;124mThe following required fields are missing and there is no default: \u001b[39m\u001b[38;5;132;01m{\u001b[39;00m\u001b[38;5;124m'\u001b[39m\u001b[38;5;124m, \u001b[39m\u001b[38;5;124m'\u001b[39m\u001b[38;5;241m.\u001b[39mjoin(missing_required)\u001b[38;5;132;01m}\u001b[39;00m\u001b[38;5;124m.\u001b[39m\u001b[38;5;124m\"\u001b[39m\n\u001b[1;32m     34\u001b[0m     )\n\u001b[1;32m     36\u001b[0m go_to_default \u001b[38;5;241m=\u001b[39m [\n\u001b[1;32m     37\u001b[0m     field_name\n\u001b[1;32m     38\u001b[0m     \u001b[38;5;28;01mfor\u001b[39;00m field_name, default \u001b[38;5;129;01min\u001b[39;00m schema\u001b[38;5;241m.\u001b[39mrequired_fields\u001b[38;5;241m.\u001b[39mitems()\n\u001b[1;32m     39\u001b[0m     \u001b[38;5;28;01mif\u001b[39;00m \u001b[38;5;129;01mnot\u001b[39;00m field_name \u001b[38;5;129;01min\u001b[39;00m metadata \u001b[38;5;129;01mand\u001b[39;00m default \u001b[38;5;129;01mis\u001b[39;00m \u001b[38;5;129;01mnot\u001b[39;00m \u001b[38;5;28;01mNone\u001b[39;00m\n\u001b[1;32m     40\u001b[0m ]\n\u001b[1;32m     41\u001b[0m to_use \u001b[38;5;241m=\u001b[39m {k: v \u001b[38;5;28;01mfor\u001b[39;00m k, v \u001b[38;5;129;01min\u001b[39;00m metadata\u001b[38;5;241m.\u001b[39mitems() \u001b[38;5;28;01mif\u001b[39;00m k \u001b[38;5;129;01min\u001b[39;00m schema\u001b[38;5;241m.\u001b[39mfields}\n",
      "\u001b[0;31mKeyError\u001b[0m: 'The following required fields are missing and there is no default: mgs.book.author.email.'"
     ]
    }
   ],
   "source": [
    "#| error: true\n",
    "my_metadata['author'].append({'name' : 'etal'})\n",
    "check_metadata(my_schema, my_metadata)"
   ]
  },
  {
   "cell_type": "code",
   "execution_count": null,
   "metadata": {},
   "outputs": [
    {
     "ename": "ValueError",
     "evalue": "None of the values provided for `mgs.book.author.email` are valid.",
     "output_type": "error",
     "traceback": [
      "\u001b[0;31m---------------------------------------------------------------------------\u001b[0m",
      "\u001b[0;31mValueError\u001b[0m                                Traceback (most recent call last)",
      "Cell \u001b[0;32mIn[37], line 3\u001b[0m\n\u001b[1;32m      1\u001b[0m \u001b[38;5;66;03m#error: true\u001b[39;00m\n\u001b[1;32m      2\u001b[0m my_metadata[\u001b[38;5;124m'\u001b[39m\u001b[38;5;124mauthor\u001b[39m\u001b[38;5;124m'\u001b[39m][\u001b[38;5;241m2\u001b[39m][\u001b[38;5;124m'\u001b[39m\u001b[38;5;124memail\u001b[39m\u001b[38;5;124m'\u001b[39m] \u001b[38;5;241m=\u001b[39m \u001b[38;5;124m'\u001b[39m\u001b[38;5;124mbademail.com\u001b[39m\u001b[38;5;124m'\u001b[39m\n\u001b[0;32m----> 3\u001b[0m \u001b[43mcheck_metadata\u001b[49m\u001b[43m(\u001b[49m\u001b[43mmy_schema\u001b[49m\u001b[43m,\u001b[49m\u001b[43m \u001b[49m\u001b[43mmy_metadata\u001b[49m\u001b[43m)\u001b[49m\n",
      "File \u001b[0;32m~/repos/gitea/u0118974/mdschema_manager/tutorial/../mango_mdschema/helpers.py:73\u001b[0m, in \u001b[0;36mcheck_metadata\u001b[0;34m(schema, metadata, verbose, index)\u001b[0m\n\u001b[1;32m     68\u001b[0m         logging\u001b[38;5;241m.\u001b[39mwarning(\n\u001b[1;32m     69\u001b[0m             \u001b[38;5;124mf\u001b[39m\u001b[38;5;124m\"\u001b[39m\u001b[38;5;124mThe following fields do not belong to the schema and will be ignored: \u001b[39m\u001b[38;5;132;01m{\u001b[39;00mextras\u001b[38;5;132;01m}\u001b[39;00m\u001b[38;5;124m.\u001b[39m\u001b[38;5;124m\"\u001b[39m\n\u001b[1;32m     70\u001b[0m         )\n\u001b[1;32m     72\u001b[0m \u001b[38;5;28;01mfor\u001b[39;00m k, v \u001b[38;5;129;01min\u001b[39;00m to_use\u001b[38;5;241m.\u001b[39mitems():\n\u001b[0;32m---> 73\u001b[0m     to_use[k] \u001b[38;5;241m=\u001b[39m \u001b[43mschema\u001b[49m\u001b[38;5;241;43m.\u001b[39;49m\u001b[43mfields\u001b[49m\u001b[43m[\u001b[49m\u001b[43mk\u001b[49m\u001b[43m]\u001b[49m\u001b[38;5;241;43m.\u001b[39;49m\u001b[43mcreate_avu\u001b[49m\u001b[43m(\u001b[49m\u001b[43mv\u001b[49m\u001b[43m,\u001b[49m\u001b[43m \u001b[49m\u001b[43mindex\u001b[49m\u001b[43m,\u001b[49m\u001b[43m \u001b[49m\u001b[43mverbose\u001b[49m\u001b[43m)\u001b[49m\n\u001b[1;32m     74\u001b[0m \u001b[38;5;28;01mfor\u001b[39;00m k \u001b[38;5;129;01min\u001b[39;00m go_to_default:\n\u001b[1;32m     75\u001b[0m     to_use[k] \u001b[38;5;241m=\u001b[39m [\n\u001b[1;32m     76\u001b[0m         iRODSMeta(schema\u001b[38;5;241m.\u001b[39mfields[k]\u001b[38;5;241m.\u001b[39mflattened_name, schema\u001b[38;5;241m.\u001b[39mfields[k]\u001b[38;5;241m.\u001b[39mdefault, index)\n\u001b[1;32m     77\u001b[0m     ]\n",
      "File \u001b[0;32m~/repos/gitea/u0118974/mdschema_manager/tutorial/../mango_mdschema/fields.py:378\u001b[0m, in \u001b[0;36mCompositeField.create_avu\u001b[0;34m(self, value, unit, verbose)\u001b[0m\n\u001b[1;32m    374\u001b[0m         \u001b[38;5;28;01mraise\u001b[39;00m \u001b[38;5;167;01mTypeError\u001b[39;00m(\n\u001b[1;32m    375\u001b[0m             \u001b[38;5;124mf\u001b[39m\u001b[38;5;124m\"\u001b[39m\u001b[38;5;124m`\u001b[39m\u001b[38;5;132;01m{\u001b[39;00m\u001b[38;5;28mself\u001b[39m\u001b[38;5;241m.\u001b[39mflattened_name\u001b[38;5;132;01m}\u001b[39;00m\u001b[38;5;124m` is not repeatable, a dictionary should be provided instead.\u001b[39m\u001b[38;5;124m\"\u001b[39m\n\u001b[1;32m    376\u001b[0m         )\n\u001b[1;32m    377\u001b[0m     \u001b[38;5;28;01melse\u001b[39;00m:\n\u001b[0;32m--> 378\u001b[0m         avus \u001b[38;5;241m=\u001b[39m [\n\u001b[1;32m    379\u001b[0m             check_metadata(\n\u001b[1;32m    380\u001b[0m                 \u001b[38;5;28mself\u001b[39m, x, verbose, CompositeField\u001b[38;5;241m.\u001b[39mget_unit(i \u001b[38;5;241m+\u001b[39m \u001b[38;5;241m1\u001b[39m, unit)\n\u001b[1;32m    381\u001b[0m             )\n\u001b[1;32m    382\u001b[0m             \u001b[38;5;28;01mfor\u001b[39;00m i, x \u001b[38;5;129;01min\u001b[39;00m \u001b[38;5;28menumerate\u001b[39m(value)\n\u001b[1;32m    383\u001b[0m         ]\n\u001b[1;32m    384\u001b[0m         \u001b[38;5;28;01mreturn\u001b[39;00m [avu \u001b[38;5;28;01mfor\u001b[39;00m avu_list \u001b[38;5;129;01min\u001b[39;00m avus \u001b[38;5;28;01mfor\u001b[39;00m avu \u001b[38;5;129;01min\u001b[39;00m avu_list]\n\u001b[1;32m    385\u001b[0m \u001b[38;5;28;01melif\u001b[39;00m \u001b[38;5;28mtype\u001b[39m(value) \u001b[38;5;241m!=\u001b[39m \u001b[38;5;28mdict\u001b[39m:\n",
      "File \u001b[0;32m~/repos/gitea/u0118974/mdschema_manager/tutorial/../mango_mdschema/fields.py:379\u001b[0m, in \u001b[0;36m<listcomp>\u001b[0;34m(.0)\u001b[0m\n\u001b[1;32m    374\u001b[0m         \u001b[38;5;28;01mraise\u001b[39;00m \u001b[38;5;167;01mTypeError\u001b[39;00m(\n\u001b[1;32m    375\u001b[0m             \u001b[38;5;124mf\u001b[39m\u001b[38;5;124m\"\u001b[39m\u001b[38;5;124m`\u001b[39m\u001b[38;5;132;01m{\u001b[39;00m\u001b[38;5;28mself\u001b[39m\u001b[38;5;241m.\u001b[39mflattened_name\u001b[38;5;132;01m}\u001b[39;00m\u001b[38;5;124m` is not repeatable, a dictionary should be provided instead.\u001b[39m\u001b[38;5;124m\"\u001b[39m\n\u001b[1;32m    376\u001b[0m         )\n\u001b[1;32m    377\u001b[0m     \u001b[38;5;28;01melse\u001b[39;00m:\n\u001b[1;32m    378\u001b[0m         avus \u001b[38;5;241m=\u001b[39m [\n\u001b[0;32m--> 379\u001b[0m             \u001b[43mcheck_metadata\u001b[49m\u001b[43m(\u001b[49m\n\u001b[1;32m    380\u001b[0m \u001b[43m                \u001b[49m\u001b[38;5;28;43mself\u001b[39;49m\u001b[43m,\u001b[49m\u001b[43m \u001b[49m\u001b[43mx\u001b[49m\u001b[43m,\u001b[49m\u001b[43m \u001b[49m\u001b[43mverbose\u001b[49m\u001b[43m,\u001b[49m\u001b[43m \u001b[49m\u001b[43mCompositeField\u001b[49m\u001b[38;5;241;43m.\u001b[39;49m\u001b[43mget_unit\u001b[49m\u001b[43m(\u001b[49m\u001b[43mi\u001b[49m\u001b[43m \u001b[49m\u001b[38;5;241;43m+\u001b[39;49m\u001b[43m \u001b[49m\u001b[38;5;241;43m1\u001b[39;49m\u001b[43m,\u001b[49m\u001b[43m \u001b[49m\u001b[43munit\u001b[49m\u001b[43m)\u001b[49m\n\u001b[1;32m    381\u001b[0m \u001b[43m            \u001b[49m\u001b[43m)\u001b[49m\n\u001b[1;32m    382\u001b[0m             \u001b[38;5;28;01mfor\u001b[39;00m i, x \u001b[38;5;129;01min\u001b[39;00m \u001b[38;5;28menumerate\u001b[39m(value)\n\u001b[1;32m    383\u001b[0m         ]\n\u001b[1;32m    384\u001b[0m         \u001b[38;5;28;01mreturn\u001b[39;00m [avu \u001b[38;5;28;01mfor\u001b[39;00m avu_list \u001b[38;5;129;01min\u001b[39;00m avus \u001b[38;5;28;01mfor\u001b[39;00m avu \u001b[38;5;129;01min\u001b[39;00m avu_list]\n\u001b[1;32m    385\u001b[0m \u001b[38;5;28;01melif\u001b[39;00m \u001b[38;5;28mtype\u001b[39m(value) \u001b[38;5;241m!=\u001b[39m \u001b[38;5;28mdict\u001b[39m:\n",
      "File \u001b[0;32m~/repos/gitea/u0118974/mdschema_manager/tutorial/../mango_mdschema/helpers.py:73\u001b[0m, in \u001b[0;36mcheck_metadata\u001b[0;34m(schema, metadata, verbose, index)\u001b[0m\n\u001b[1;32m     68\u001b[0m         logging\u001b[38;5;241m.\u001b[39mwarning(\n\u001b[1;32m     69\u001b[0m             \u001b[38;5;124mf\u001b[39m\u001b[38;5;124m\"\u001b[39m\u001b[38;5;124mThe following fields do not belong to the schema and will be ignored: \u001b[39m\u001b[38;5;132;01m{\u001b[39;00mextras\u001b[38;5;132;01m}\u001b[39;00m\u001b[38;5;124m.\u001b[39m\u001b[38;5;124m\"\u001b[39m\n\u001b[1;32m     70\u001b[0m         )\n\u001b[1;32m     72\u001b[0m \u001b[38;5;28;01mfor\u001b[39;00m k, v \u001b[38;5;129;01min\u001b[39;00m to_use\u001b[38;5;241m.\u001b[39mitems():\n\u001b[0;32m---> 73\u001b[0m     to_use[k] \u001b[38;5;241m=\u001b[39m \u001b[43mschema\u001b[49m\u001b[38;5;241;43m.\u001b[39;49m\u001b[43mfields\u001b[49m\u001b[43m[\u001b[49m\u001b[43mk\u001b[49m\u001b[43m]\u001b[49m\u001b[38;5;241;43m.\u001b[39;49m\u001b[43mcreate_avu\u001b[49m\u001b[43m(\u001b[49m\u001b[43mv\u001b[49m\u001b[43m,\u001b[49m\u001b[43m \u001b[49m\u001b[43mindex\u001b[49m\u001b[43m,\u001b[49m\u001b[43m \u001b[49m\u001b[43mverbose\u001b[49m\u001b[43m)\u001b[49m\n\u001b[1;32m     74\u001b[0m \u001b[38;5;28;01mfor\u001b[39;00m k \u001b[38;5;129;01min\u001b[39;00m go_to_default:\n\u001b[1;32m     75\u001b[0m     to_use[k] \u001b[38;5;241m=\u001b[39m [\n\u001b[1;32m     76\u001b[0m         iRODSMeta(schema\u001b[38;5;241m.\u001b[39mfields[k]\u001b[38;5;241m.\u001b[39mflattened_name, schema\u001b[38;5;241m.\u001b[39mfields[k]\u001b[38;5;241m.\u001b[39mdefault, index)\n\u001b[1;32m     77\u001b[0m     ]\n",
      "File \u001b[0;32m~/repos/gitea/u0118974/mdschema_manager/tutorial/../mango_mdschema/fields.py:278\u001b[0m, in \u001b[0;36mSimpleField.create_avu\u001b[0;34m(self, value, unit, verbose)\u001b[0m\n\u001b[1;32m    273\u001b[0m \u001b[38;5;28;01melse\u001b[39;00m:\n\u001b[1;32m    274\u001b[0m     validated_value \u001b[38;5;241m=\u001b[39m \u001b[38;5;28mself\u001b[39m\u001b[38;5;241m.\u001b[39mvalidate(value)\n\u001b[1;32m    275\u001b[0m     \u001b[38;5;28;01mreturn\u001b[39;00m (\n\u001b[1;32m    276\u001b[0m         [iRODSMeta(\u001b[38;5;28mself\u001b[39m\u001b[38;5;241m.\u001b[39mflattened_name, validated_value, unit)]\n\u001b[1;32m    277\u001b[0m         \u001b[38;5;28;01mif\u001b[39;00m validated_value\n\u001b[0;32m--> 278\u001b[0m         \u001b[38;5;28;01melse\u001b[39;00m \u001b[38;5;28;43mself\u001b[39;49m\u001b[38;5;241;43m.\u001b[39;49m\u001b[43mdeal_with_invalid\u001b[49m\u001b[43m(\u001b[49m\u001b[43mvalue\u001b[49m\u001b[43m,\u001b[49m\u001b[43m \u001b[49m\u001b[43munit\u001b[49m\u001b[43m)\u001b[49m\n\u001b[1;32m    279\u001b[0m     )\n",
      "File \u001b[0;32m~/repos/gitea/u0118974/mdschema_manager/tutorial/../mango_mdschema/fields.py:292\u001b[0m, in \u001b[0;36mSimpleField.deal_with_invalid\u001b[0;34m(self, value, unit)\u001b[0m\n\u001b[1;32m    288\u001b[0m     logging\u001b[38;5;241m.\u001b[39mwarning(\n\u001b[1;32m    289\u001b[0m         \u001b[38;5;124mf\u001b[39m\u001b[38;5;124m\"\u001b[39m\u001b[38;5;124mThe values provided for `\u001b[39m\u001b[38;5;132;01m{\u001b[39;00m\u001b[38;5;28mself\u001b[39m\u001b[38;5;241m.\u001b[39mflattened_name\u001b[38;5;132;01m}\u001b[39;00m\u001b[38;5;124m` are not valid: the default will be used.\u001b[39m\u001b[38;5;124m\"\u001b[39m\n\u001b[1;32m    290\u001b[0m     )\n\u001b[1;32m    291\u001b[0m     \u001b[38;5;28;01mreturn\u001b[39;00m [iRODSMeta(\u001b[38;5;28mself\u001b[39m\u001b[38;5;241m.\u001b[39mflattened_name, \u001b[38;5;28mself\u001b[39m\u001b[38;5;241m.\u001b[39mdefault, unit)]\n\u001b[0;32m--> 292\u001b[0m \u001b[38;5;28;01mraise\u001b[39;00m \u001b[38;5;167;01mValueError\u001b[39;00m(\n\u001b[1;32m    293\u001b[0m     \u001b[38;5;124mf\u001b[39m\u001b[38;5;124m\"\u001b[39m\u001b[38;5;124mNone of the values provided for `\u001b[39m\u001b[38;5;132;01m{\u001b[39;00m\u001b[38;5;28mself\u001b[39m\u001b[38;5;241m.\u001b[39mflattened_name\u001b[38;5;132;01m}\u001b[39;00m\u001b[38;5;124m` are valid.\u001b[39m\u001b[38;5;124m\"\u001b[39m\n\u001b[1;32m    294\u001b[0m )\n",
      "\u001b[0;31mValueError\u001b[0m: None of the values provided for `mgs.book.author.email` are valid."
     ]
    }
   ],
   "source": [
    "#error: true\n",
    "my_metadata['author'][2]['email'] = 'bademail.com'\n",
    "check_metadata(my_schema, my_metadata)"
   ]
  },
  {
   "cell_type": "code",
   "execution_count": null,
   "metadata": {},
   "outputs": [
    {
     "data": {
      "text/plain": [
       "[<iRODSMeta None mgs.book.title A book not written yet None>,\n",
       " <iRODSMeta None mgs.book.author.name Fulano De Tal 1>,\n",
       " <iRODSMeta None mgs.book.author.email fulano.detal@kuleuven.be 1>,\n",
       " <iRODSMeta None mgs.book.author.age 30 1>,\n",
       " <iRODSMeta None mgs.book.author.name Jane Doe 2>,\n",
       " <iRODSMeta None mgs.book.author.email jane_doe@kuleuven.be 2>,\n",
       " <iRODSMeta None mgs.book.author.email sweetdoe@kuleuven.be 2>,\n",
       " <iRODSMeta None mgs.book.author.name etal 3>,\n",
       " <iRODSMeta None mgs.book.author.email bademail@kuleuven.be 3>,\n",
       " <iRODSMeta None mgs.book.ebook Available None>,\n",
       " <iRODSMeta None mgs.book.publishing_date 2015-02-01 None>,\n",
       " <iRODSMeta None mgs.book.cover_colors red None>,\n",
       " <iRODSMeta None mgs.book.cover_colors blue None>,\n",
       " <iRODSMeta None mgs.book.publisher Tor None>]"
      ]
     },
     "execution_count": 38,
     "metadata": {},
     "output_type": "execute_result"
    }
   ],
   "source": [
    "my_metadata['author'][2]['email'] = 'bademail@kuleuven.be'\n",
    "check_metadata(my_schema, my_metadata)"
   ]
  },
  {
   "cell_type": "markdown",
   "metadata": {},
   "source": [
    "# Final notes on implementation\n",
    "\n",
    "The metadata can be applied to an object or collection `item` with `my_schema.apply(item, my_metadata)`, which basically calls `check_metadata()` and then provides the list to `item.metadata.apply_atomic_operations()`, adding each of the AVUs.\n",
    "In addition, another AVU is added with name `{prefix}.__version__` (e.g. `mgs.book.__version__`) indicating the version of the schema used for annotation (in this case, \"2.0.0\").\n",
    "\n",
    "However, before actually adding the metadata, `apply()` does two things:\n",
    "\n",
    "- It checks whether there already is a `{prefix}.__version__` AVU and prints a warning if it's different from the version of the current schema.\n",
    "- It removes all existing metadata with the same prefix.\n",
    "\n",
    "This is the same behavior from the ManGO portal: it replaces all existing metadata linked to a schema with the metadata provided in this instance."
   ]
  }
 ],
 "metadata": {
  "kernelspec": {
   "display_name": "Python 3 (ipykernel)",
   "language": "python",
   "name": "python3"
  },
  "language_info": {
   "codemirror_mode": {
    "name": "ipython",
    "version": 3
   },
   "file_extension": ".py",
   "mimetype": "text/x-python",
   "name": "python",
   "nbconvert_exporter": "python",
   "pygments_lexer": "ipython3",
   "version": "3.10.8"
  }
 },
 "nbformat": 4,
 "nbformat_minor": 4
}
